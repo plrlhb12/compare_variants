{
 "cells": [
  {
   "cell_type": "code",
   "execution_count": 4,
   "metadata": {},
   "outputs": [],
   "source": [
    "import os\n",
    "import sys\n",
    "import argparse \n",
    "import math\n",
    "import time\n",
    "import h5py\n",
    "import joblib\n",
    "import subprocess\n",
    "import numpy as np\n",
    "import pandas as pd\n",
    "import scipy\n",
    "import statsmodels.api as sm\n",
    "import matplotlib.pyplot as plt \n",
    "import seaborn as sns"
   ]
  },
  {
   "cell_type": "code",
   "execution_count": 6,
   "metadata": {},
   "outputs": [],
   "source": [
    "os.chdir('/Users/pengl7/Downloads/WGS/compare-variants/NIST/')"
   ]
  },
  {
   "cell_type": "code",
   "execution_count": 7,
   "metadata": {
    "tags": []
   },
   "outputs": [
    {
     "name": "stdout",
     "output_type": "stream",
     "text": [
      "total 114176\r\n",
      "-rw-r--r--  1 pengl7  NIH\\Domain Users    22M Sep 28 11:51 long_cleared_QD.csv\r\n",
      "-rw-r--r--  1 pengl7  NIH\\Domain Users    21M Sep 25 16:58 long_cleared.csv\r\n",
      "-rw-r-----  1 pengl7  NIH\\Domain Users    12M Sep 25 10:35 long4_with_title\r\n"
     ]
    }
   ],
   "source": [
    "%ls -lth"
   ]
  },
  {
   "cell_type": "code",
   "execution_count": 8,
   "metadata": {},
   "outputs": [
    {
     "name": "stderr",
     "output_type": "stream",
     "text": [
      "/Users/pengl7/opt/anaconda3/envs/genomics/lib/python3.7/site-packages/IPython/core/interactiveshell.py:3146: DtypeWarning: Columns (6,7,8) have mixed types.Specify dtype option on import or set low_memory=False.\n",
      "  interactivity=interactivity, compiler=compiler, result=result)\n"
     ]
    }
   ],
   "source": [
    "# df = pd.read_csv(\"long4_with_title\", sep=\"\\t\",index_col=\"POS\", na_values={}, dtype={'UNMATCH': \"category\", \"DP\": \"float\", \"GQ\": \"float\", \"MQ\": \"float\"}, )\n",
    "df = pd.read_csv(\"long4_with_title\", sep=\"\\t\")"
   ]
  },
  {
   "cell_type": "code",
   "execution_count": 5,
   "metadata": {
    "tags": []
   },
   "outputs": [
    {
     "name": "stdout",
     "output_type": "stream",
     "text": [
      "(339882, 9)\n",
      "['POS', 'UNMATCH', 'TYPE', 'QUAL', 'FS', 'AF', 'DP', 'GQ', 'MQ']\n"
     ]
    }
   ],
   "source": [
    "print(df.shape)\n",
    "print(df.columns.to_list())"
   ]
  },
  {
   "cell_type": "code",
   "execution_count": 6,
   "metadata": {},
   "outputs": [
    {
     "data": {
      "text/plain": [
       "POS          int64\n",
       "UNMATCH      int64\n",
       "TYPE         int64\n",
       "QUAL       float64\n",
       "FS         float64\n",
       "AF         float64\n",
       "DP          object\n",
       "GQ          object\n",
       "MQ          object\n",
       "dtype: object"
      ]
     },
     "execution_count": 6,
     "metadata": {},
     "output_type": "execute_result"
    }
   ],
   "source": [
    "df.dtypes"
   ]
  },
  {
   "cell_type": "markdown",
   "metadata": {},
   "source": [
    "## Get rid of some non-numeric values and change data types"
   ]
  },
  {
   "cell_type": "code",
   "execution_count": 11,
   "metadata": {},
   "outputs": [
    {
     "data": {
      "text/html": [
       "<div>\n",
       "<style scoped>\n",
       "    .dataframe tbody tr th:only-of-type {\n",
       "        vertical-align: middle;\n",
       "    }\n",
       "\n",
       "    .dataframe tbody tr th {\n",
       "        vertical-align: top;\n",
       "    }\n",
       "\n",
       "    .dataframe thead th {\n",
       "        text-align: right;\n",
       "    }\n",
       "</style>\n",
       "<table border=\"1\" class=\"dataframe\">\n",
       "  <thead>\n",
       "    <tr style=\"text-align: right;\">\n",
       "      <th></th>\n",
       "      <th>POS</th>\n",
       "      <th>UNMATCH</th>\n",
       "      <th>TYPE</th>\n",
       "      <th>QUAL</th>\n",
       "      <th>FS</th>\n",
       "      <th>AF</th>\n",
       "      <th>DP</th>\n",
       "      <th>GQ</th>\n",
       "      <th>MQ</th>\n",
       "    </tr>\n",
       "  </thead>\n",
       "  <tbody>\n",
       "    <tr>\n",
       "      <th>290425</th>\n",
       "      <td>219791127</td>\n",
       "      <td>1</td>\n",
       "      <td>1</td>\n",
       "      <td>99.14</td>\n",
       "      <td>0.0</td>\n",
       "      <td>1.0</td>\n",
       "      <td>0</td>\n",
       "      <td>8</td>\n",
       "      <td>.</td>\n",
       "    </tr>\n",
       "    <tr>\n",
       "      <th>312958</th>\n",
       "      <td>234937551</td>\n",
       "      <td>1</td>\n",
       "      <td>1</td>\n",
       "      <td>53.70</td>\n",
       "      <td>0.0</td>\n",
       "      <td>0.5</td>\n",
       "      <td>0</td>\n",
       "      <td>6</td>\n",
       "      <td>.</td>\n",
       "    </tr>\n",
       "  </tbody>\n",
       "</table>\n",
       "</div>"
      ],
      "text/plain": [
       "              POS  UNMATCH  TYPE   QUAL   FS   AF DP GQ MQ\n",
       "290425  219791127        1     1  99.14  0.0  1.0  0  8  .\n",
       "312958  234937551        1     1  53.70  0.0  0.5  0  6  ."
      ]
     },
     "execution_count": 11,
     "metadata": {},
     "output_type": "execute_result"
    }
   ],
   "source": [
    "df[df[\"MQ\"]== \".\"]"
   ]
  },
  {
   "cell_type": "code",
   "execution_count": 13,
   "metadata": {
    "tags": []
   },
   "outputs": [
    {
     "name": "stdout",
     "output_type": "stream",
     "text": [
      "(339860, 9)\n"
     ]
    }
   ],
   "source": [
    "myFilter = (df[\"DP\"]!= \".\") & (df[\"GQ\"]!= \".\") & (df[\"MQ\"]!= \".\")\n",
    "df = df[myFilter]\n",
    "print(df.shape)"
   ]
  },
  {
   "cell_type": "code",
   "execution_count": 16,
   "metadata": {},
   "outputs": [],
   "source": [
    "# change data type \n",
    "cols = ['DP', 'GQ', 'MQ']\n",
    "for col in cols:\n",
    "    df[col]= df[col].astype(\"float\")"
   ]
  },
  {
   "cell_type": "code",
   "execution_count": 37,
   "metadata": {},
   "outputs": [],
   "source": [
    "df.to_csv(\"long_cleared.csv\")"
   ]
  },
  {
   "cell_type": "markdown",
   "metadata": {},
   "source": [
    "## Apply logsistic regression model"
   ]
  },
  {
   "cell_type": "code",
   "execution_count": 17,
   "metadata": {},
   "outputs": [
    {
     "data": {
      "text/html": [
       "<div>\n",
       "<style scoped>\n",
       "    .dataframe tbody tr th:only-of-type {\n",
       "        vertical-align: middle;\n",
       "    }\n",
       "\n",
       "    .dataframe tbody tr th {\n",
       "        vertical-align: top;\n",
       "    }\n",
       "\n",
       "    .dataframe thead th {\n",
       "        text-align: right;\n",
       "    }\n",
       "</style>\n",
       "<table border=\"1\" class=\"dataframe\">\n",
       "  <thead>\n",
       "    <tr style=\"text-align: right;\">\n",
       "      <th></th>\n",
       "      <th>POS</th>\n",
       "      <th>UNMATCH</th>\n",
       "      <th>TYPE</th>\n",
       "      <th>QUAL</th>\n",
       "      <th>FS</th>\n",
       "      <th>AF</th>\n",
       "      <th>DP</th>\n",
       "      <th>GQ</th>\n",
       "      <th>MQ</th>\n",
       "    </tr>\n",
       "  </thead>\n",
       "  <tbody>\n",
       "    <tr>\n",
       "      <th>count</th>\n",
       "      <td>3.398600e+05</td>\n",
       "      <td>339860.000000</td>\n",
       "      <td>339860.000000</td>\n",
       "      <td>339860.000000</td>\n",
       "      <td>339860.000000</td>\n",
       "      <td>339860.000000</td>\n",
       "      <td>339860.000000</td>\n",
       "      <td>339860.000000</td>\n",
       "      <td>339860.000000</td>\n",
       "    </tr>\n",
       "    <tr>\n",
       "      <th>mean</th>\n",
       "      <td>1.256499e+08</td>\n",
       "      <td>0.102457</td>\n",
       "      <td>0.161160</td>\n",
       "      <td>480.445892</td>\n",
       "      <td>1.733951</td>\n",
       "      <td>0.701240</td>\n",
       "      <td>19.790970</td>\n",
       "      <td>78.836871</td>\n",
       "      <td>59.430544</td>\n",
       "    </tr>\n",
       "    <tr>\n",
       "      <th>std</th>\n",
       "      <td>7.641397e+07</td>\n",
       "      <td>0.303249</td>\n",
       "      <td>0.367679</td>\n",
       "      <td>720.769333</td>\n",
       "      <td>3.342236</td>\n",
       "      <td>0.247945</td>\n",
       "      <td>22.881138</td>\n",
       "      <td>27.074520</td>\n",
       "      <td>2.707473</td>\n",
       "    </tr>\n",
       "    <tr>\n",
       "      <th>min</th>\n",
       "      <td>1.014600e+04</td>\n",
       "      <td>0.000000</td>\n",
       "      <td>0.000000</td>\n",
       "      <td>30.250000</td>\n",
       "      <td>0.000000</td>\n",
       "      <td>0.000200</td>\n",
       "      <td>0.000000</td>\n",
       "      <td>0.000000</td>\n",
       "      <td>20.000000</td>\n",
       "    </tr>\n",
       "    <tr>\n",
       "      <th>25%</th>\n",
       "      <td>5.925370e+07</td>\n",
       "      <td>0.000000</td>\n",
       "      <td>0.000000</td>\n",
       "      <td>233.770000</td>\n",
       "      <td>0.000000</td>\n",
       "      <td>0.500000</td>\n",
       "      <td>14.000000</td>\n",
       "      <td>59.000000</td>\n",
       "      <td>60.000000</td>\n",
       "    </tr>\n",
       "    <tr>\n",
       "      <th>50%</th>\n",
       "      <td>1.148291e+08</td>\n",
       "      <td>0.000000</td>\n",
       "      <td>0.000000</td>\n",
       "      <td>385.770000</td>\n",
       "      <td>0.000000</td>\n",
       "      <td>0.500000</td>\n",
       "      <td>19.000000</td>\n",
       "      <td>99.000000</td>\n",
       "      <td>60.000000</td>\n",
       "    </tr>\n",
       "    <tr>\n",
       "      <th>75%</th>\n",
       "      <td>1.950171e+08</td>\n",
       "      <td>0.000000</td>\n",
       "      <td>0.000000</td>\n",
       "      <td>647.770000</td>\n",
       "      <td>2.218000</td>\n",
       "      <td>1.000000</td>\n",
       "      <td>24.000000</td>\n",
       "      <td>99.000000</td>\n",
       "      <td>60.000000</td>\n",
       "    </tr>\n",
       "    <tr>\n",
       "      <th>max</th>\n",
       "      <td>2.489456e+08</td>\n",
       "      <td>1.000000</td>\n",
       "      <td>1.000000</td>\n",
       "      <td>117461.000000</td>\n",
       "      <td>357.189000</td>\n",
       "      <td>1.000000</td>\n",
       "      <td>3142.000000</td>\n",
       "      <td>99.000000</td>\n",
       "      <td>60.000000</td>\n",
       "    </tr>\n",
       "  </tbody>\n",
       "</table>\n",
       "</div>"
      ],
      "text/plain": [
       "                POS        UNMATCH           TYPE           QUAL  \\\n",
       "count  3.398600e+05  339860.000000  339860.000000  339860.000000   \n",
       "mean   1.256499e+08       0.102457       0.161160     480.445892   \n",
       "std    7.641397e+07       0.303249       0.367679     720.769333   \n",
       "min    1.014600e+04       0.000000       0.000000      30.250000   \n",
       "25%    5.925370e+07       0.000000       0.000000     233.770000   \n",
       "50%    1.148291e+08       0.000000       0.000000     385.770000   \n",
       "75%    1.950171e+08       0.000000       0.000000     647.770000   \n",
       "max    2.489456e+08       1.000000       1.000000  117461.000000   \n",
       "\n",
       "                  FS             AF             DP             GQ  \\\n",
       "count  339860.000000  339860.000000  339860.000000  339860.000000   \n",
       "mean        1.733951       0.701240      19.790970      78.836871   \n",
       "std         3.342236       0.247945      22.881138      27.074520   \n",
       "min         0.000000       0.000200       0.000000       0.000000   \n",
       "25%         0.000000       0.500000      14.000000      59.000000   \n",
       "50%         0.000000       0.500000      19.000000      99.000000   \n",
       "75%         2.218000       1.000000      24.000000      99.000000   \n",
       "max       357.189000       1.000000    3142.000000      99.000000   \n",
       "\n",
       "                  MQ  \n",
       "count  339860.000000  \n",
       "mean       59.430544  \n",
       "std         2.707473  \n",
       "min        20.000000  \n",
       "25%        60.000000  \n",
       "50%        60.000000  \n",
       "75%        60.000000  \n",
       "max        60.000000  "
      ]
     },
     "execution_count": 17,
     "metadata": {},
     "output_type": "execute_result"
    }
   ],
   "source": [
    "df.describe()"
   ]
  },
  {
   "cell_type": "code",
   "execution_count": 19,
   "metadata": {},
   "outputs": [
    {
     "data": {
      "text/html": [
       "<table class=\"simpletable\">\n",
       "<caption>Generalized Linear Model Regression Results</caption>\n",
       "<tr>\n",
       "  <th>Dep. Variable:</th>        <td>UNMATCH</td>     <th>  No. Observations:  </th>   <td>339860</td>  \n",
       "</tr>\n",
       "<tr>\n",
       "  <th>Model:</th>                  <td>GLM</td>       <th>  Df Residuals:      </th>   <td>339852</td>  \n",
       "</tr>\n",
       "<tr>\n",
       "  <th>Model Family:</th>        <td>Binomial</td>     <th>  Df Model:          </th>   <td>     7</td>  \n",
       "</tr>\n",
       "<tr>\n",
       "  <th>Link Function:</th>         <td>logit</td>      <th>  Scale:             </th>  <td>  1.0000</td> \n",
       "</tr>\n",
       "<tr>\n",
       "  <th>Method:</th>                <td>IRLS</td>       <th>  Log-Likelihood:    </th>  <td> -86131.</td> \n",
       "</tr>\n",
       "<tr>\n",
       "  <th>Date:</th>            <td>Fri, 25 Sep 2020</td> <th>  Deviance:          </th> <td>1.7226e+05</td>\n",
       "</tr>\n",
       "<tr>\n",
       "  <th>Time:</th>                <td>16:28:26</td>     <th>  Pearson chi2:      </th>  <td>3.59e+05</td> \n",
       "</tr>\n",
       "<tr>\n",
       "  <th>No. Iterations:</th>          <td>6</td>        <th>                     </th>      <td> </td>    \n",
       "</tr>\n",
       "<tr>\n",
       "  <th>Covariance Type:</th>     <td>nonrobust</td>    <th>                     </th>      <td> </td>    \n",
       "</tr>\n",
       "</table>\n",
       "<table class=\"simpletable\">\n",
       "<tr>\n",
       "      <td></td>         <th>coef</th>     <th>std err</th>      <th>z</th>      <th>P>|z|</th>  <th>[0.025</th>    <th>0.975]</th>  \n",
       "</tr>\n",
       "<tr>\n",
       "  <th>Intercept</th> <td>   13.9337</td> <td>    0.122</td> <td>  114.109</td> <td> 0.000</td> <td>   13.694</td> <td>   14.173</td>\n",
       "</tr>\n",
       "<tr>\n",
       "  <th>TYPE</th>      <td>    1.7849</td> <td>    0.014</td> <td>  128.356</td> <td> 0.000</td> <td>    1.758</td> <td>    1.812</td>\n",
       "</tr>\n",
       "<tr>\n",
       "  <th>DP</th>        <td>    0.0154</td> <td>    0.001</td> <td>   17.306</td> <td> 0.000</td> <td>    0.014</td> <td>    0.017</td>\n",
       "</tr>\n",
       "<tr>\n",
       "  <th>GQ</th>        <td>   -0.0250</td> <td>    0.000</td> <td>  -83.688</td> <td> 0.000</td> <td>   -0.026</td> <td>   -0.024</td>\n",
       "</tr>\n",
       "<tr>\n",
       "  <th>QUAL</th>      <td>   -0.0004</td> <td> 2.74e-05</td> <td>  -16.150</td> <td> 0.000</td> <td>   -0.000</td> <td>   -0.000</td>\n",
       "</tr>\n",
       "<tr>\n",
       "  <th>FS</th>        <td>    0.0134</td> <td>    0.002</td> <td>    6.387</td> <td> 0.000</td> <td>    0.009</td> <td>    0.018</td>\n",
       "</tr>\n",
       "<tr>\n",
       "  <th>AF</th>        <td>   -1.9726</td> <td>    0.041</td> <td>  -47.853</td> <td> 0.000</td> <td>   -2.053</td> <td>   -1.892</td>\n",
       "</tr>\n",
       "<tr>\n",
       "  <th>MQ</th>        <td>   -0.2293</td> <td>    0.002</td> <td> -116.589</td> <td> 0.000</td> <td>   -0.233</td> <td>   -0.225</td>\n",
       "</tr>\n",
       "</table>"
      ],
      "text/plain": [
       "<class 'statsmodels.iolib.summary.Summary'>\n",
       "\"\"\"\n",
       "                 Generalized Linear Model Regression Results                  \n",
       "==============================================================================\n",
       "Dep. Variable:                UNMATCH   No. Observations:               339860\n",
       "Model:                            GLM   Df Residuals:                   339852\n",
       "Model Family:                Binomial   Df Model:                            7\n",
       "Link Function:                  logit   Scale:                          1.0000\n",
       "Method:                          IRLS   Log-Likelihood:                -86131.\n",
       "Date:                Fri, 25 Sep 2020   Deviance:                   1.7226e+05\n",
       "Time:                        16:28:26   Pearson chi2:                 3.59e+05\n",
       "No. Iterations:                     6                                         \n",
       "Covariance Type:            nonrobust                                         \n",
       "==============================================================================\n",
       "                 coef    std err          z      P>|z|      [0.025      0.975]\n",
       "------------------------------------------------------------------------------\n",
       "Intercept     13.9337      0.122    114.109      0.000      13.694      14.173\n",
       "TYPE           1.7849      0.014    128.356      0.000       1.758       1.812\n",
       "DP             0.0154      0.001     17.306      0.000       0.014       0.017\n",
       "GQ            -0.0250      0.000    -83.688      0.000      -0.026      -0.024\n",
       "QUAL          -0.0004   2.74e-05    -16.150      0.000      -0.000      -0.000\n",
       "FS             0.0134      0.002      6.387      0.000       0.009       0.018\n",
       "AF            -1.9726      0.041    -47.853      0.000      -2.053      -1.892\n",
       "MQ            -0.2293      0.002   -116.589      0.000      -0.233      -0.225\n",
       "==============================================================================\n",
       "\"\"\""
      ]
     },
     "execution_count": 19,
     "metadata": {},
     "output_type": "execute_result"
    }
   ],
   "source": [
    "this_formula = \"UNMATCH ~ TYPE + DP + GQ + QUAL + FS + AF + MQ\"\n",
    "res = sm.formula.glm(formula=this_formula, family=sm.families.Binomial(), data=df).fit() \n",
    "res.summary()"
   ]
  },
  {
   "cell_type": "code",
   "execution_count": 23,
   "metadata": {},
   "outputs": [],
   "source": [
    "df[\"QualByDepth\"] = df[\"GQ\"]/(df[\"DP\"]+1)"
   ]
  },
  {
   "cell_type": "code",
   "execution_count": 24,
   "metadata": {},
   "outputs": [
    {
     "data": {
      "text/html": [
       "<table class=\"simpletable\">\n",
       "<caption>Generalized Linear Model Regression Results</caption>\n",
       "<tr>\n",
       "  <th>Dep. Variable:</th>        <td>UNMATCH</td>     <th>  No. Observations:  </th>  <td>339860</td> \n",
       "</tr>\n",
       "<tr>\n",
       "  <th>Model:</th>                  <td>GLM</td>       <th>  Df Residuals:      </th>  <td>339851</td> \n",
       "</tr>\n",
       "<tr>\n",
       "  <th>Model Family:</th>        <td>Binomial</td>     <th>  Df Model:          </th>  <td>     8</td> \n",
       "</tr>\n",
       "<tr>\n",
       "  <th>Link Function:</th>         <td>logit</td>      <th>  Scale:             </th> <td>  1.0000</td>\n",
       "</tr>\n",
       "<tr>\n",
       "  <th>Method:</th>                <td>IRLS</td>       <th>  Log-Likelihood:    </th> <td>     nan</td>\n",
       "</tr>\n",
       "<tr>\n",
       "  <th>Date:</th>            <td>Fri, 25 Sep 2020</td> <th>  Deviance:          </th> <td>     nan</td>\n",
       "</tr>\n",
       "<tr>\n",
       "  <th>Time:</th>                <td>16:33:00</td>     <th>  Pearson chi2:      </th> <td>5.36e+15</td>\n",
       "</tr>\n",
       "<tr>\n",
       "  <th>No. Iterations:</th>         <td>100</td>       <th>                     </th>     <td> </td>   \n",
       "</tr>\n",
       "<tr>\n",
       "  <th>Covariance Type:</th>     <td>nonrobust</td>    <th>                     </th>     <td> </td>   \n",
       "</tr>\n",
       "</table>\n",
       "<table class=\"simpletable\">\n",
       "<tr>\n",
       "       <td></td>          <th>coef</th>     <th>std err</th>      <th>z</th>      <th>P>|z|</th>  <th>[0.025</th>    <th>0.975]</th>  \n",
       "</tr>\n",
       "<tr>\n",
       "  <th>Intercept</th>   <td>   11.3704</td> <td>    0.129</td> <td>   88.282</td> <td> 0.000</td> <td>   11.118</td> <td>   11.623</td>\n",
       "</tr>\n",
       "<tr>\n",
       "  <th>QualByDepth</th> <td>    0.3220</td> <td>    0.005</td> <td>   66.974</td> <td> 0.000</td> <td>    0.313</td> <td>    0.331</td>\n",
       "</tr>\n",
       "<tr>\n",
       "  <th>TYPE</th>        <td>    1.6021</td> <td>    0.014</td> <td>  111.655</td> <td> 0.000</td> <td>    1.574</td> <td>    1.630</td>\n",
       "</tr>\n",
       "<tr>\n",
       "  <th>DP</th>          <td>    0.0660</td> <td>    0.002</td> <td>   40.439</td> <td> 0.000</td> <td>    0.063</td> <td>    0.069</td>\n",
       "</tr>\n",
       "<tr>\n",
       "  <th>GQ</th>          <td>   -0.0414</td> <td>    0.000</td> <td>  -96.257</td> <td> 0.000</td> <td>   -0.042</td> <td>   -0.041</td>\n",
       "</tr>\n",
       "<tr>\n",
       "  <th>QUAL</th>        <td>   -0.0013</td> <td> 3.88e-05</td> <td>  -33.082</td> <td> 0.000</td> <td>   -0.001</td> <td>   -0.001</td>\n",
       "</tr>\n",
       "<tr>\n",
       "  <th>FS</th>          <td>    0.0158</td> <td>    0.002</td> <td>    7.287</td> <td> 0.000</td> <td>    0.012</td> <td>    0.020</td>\n",
       "</tr>\n",
       "<tr>\n",
       "  <th>AF</th>          <td>   -1.0784</td> <td>    0.046</td> <td>  -23.495</td> <td> 0.000</td> <td>   -1.168</td> <td>   -0.988</td>\n",
       "</tr>\n",
       "<tr>\n",
       "  <th>MQ</th>          <td>   -0.2081</td> <td>    0.002</td> <td> -103.908</td> <td> 0.000</td> <td>   -0.212</td> <td>   -0.204</td>\n",
       "</tr>\n",
       "</table>"
      ],
      "text/plain": [
       "<class 'statsmodels.iolib.summary.Summary'>\n",
       "\"\"\"\n",
       "                 Generalized Linear Model Regression Results                  \n",
       "==============================================================================\n",
       "Dep. Variable:                UNMATCH   No. Observations:               339860\n",
       "Model:                            GLM   Df Residuals:                   339851\n",
       "Model Family:                Binomial   Df Model:                            8\n",
       "Link Function:                  logit   Scale:                          1.0000\n",
       "Method:                          IRLS   Log-Likelihood:                    nan\n",
       "Date:                Fri, 25 Sep 2020   Deviance:                          nan\n",
       "Time:                        16:33:00   Pearson chi2:                 5.36e+15\n",
       "No. Iterations:                   100                                         \n",
       "Covariance Type:            nonrobust                                         \n",
       "===============================================================================\n",
       "                  coef    std err          z      P>|z|      [0.025      0.975]\n",
       "-------------------------------------------------------------------------------\n",
       "Intercept      11.3704      0.129     88.282      0.000      11.118      11.623\n",
       "QualByDepth     0.3220      0.005     66.974      0.000       0.313       0.331\n",
       "TYPE            1.6021      0.014    111.655      0.000       1.574       1.630\n",
       "DP              0.0660      0.002     40.439      0.000       0.063       0.069\n",
       "GQ             -0.0414      0.000    -96.257      0.000      -0.042      -0.041\n",
       "QUAL           -0.0013   3.88e-05    -33.082      0.000      -0.001      -0.001\n",
       "FS              0.0158      0.002      7.287      0.000       0.012       0.020\n",
       "AF             -1.0784      0.046    -23.495      0.000      -1.168      -0.988\n",
       "MQ             -0.2081      0.002   -103.908      0.000      -0.212      -0.204\n",
       "===============================================================================\n",
       "\"\"\""
      ]
     },
     "execution_count": 24,
     "metadata": {},
     "output_type": "execute_result"
    }
   ],
   "source": [
    "\n",
    "formula2 = \"UNMATCH ~ QualByDepth + TYPE + DP + GQ + QUAL + FS + AF + MQ\"\n",
    "res = sm.formula.glm(formula=formula2, family=sm.families.Binomial(), data=df).fit() \n",
    "res.summary()"
   ]
  },
  {
   "cell_type": "code",
   "execution_count": 26,
   "metadata": {
    "tags": []
   },
   "outputs": [
    {
     "name": "stdout",
     "output_type": "stream",
     "text": [
      "Coefficeients\n",
      "Intercept      11.370424\n",
      "QualByDepth     0.321993\n",
      "TYPE            1.602123\n",
      "DP              0.065982\n",
      "GQ             -0.041431\n",
      "QUAL           -0.001284\n",
      "FS              0.015807\n",
      "AF             -1.078384\n",
      "MQ             -0.208142\n",
      "dtype: float64\n",
      "\n",
      "p-Values\n",
      "Intercept       0.000000e+00\n",
      "QualByDepth     0.000000e+00\n",
      "TYPE            0.000000e+00\n",
      "DP              0.000000e+00\n",
      "GQ              0.000000e+00\n",
      "QUAL           5.310002e-240\n",
      "FS              3.162637e-13\n",
      "AF             4.538994e-122\n",
      "MQ              0.000000e+00\n",
      "dtype: float64\n",
      "\n",
      "Dependent variables\n",
      "UNMATCH\n"
     ]
    }
   ],
   "source": [
    "print(\"Coefficeients\")\n",
    "print(res.params)\n",
    "print()\n",
    "print(\"p-Values\")\n",
    "print(res.pvalues)\n",
    "print()\n",
    "print(\"Dependent variables\")\n",
    "print(res.model.endog_names)"
   ]
  }
 ],
 "metadata": {
  "kernelspec": {
   "display_name": "genomics",
   "language": "python",
   "name": "genomics"
  },
  "language_info": {
   "codemirror_mode": {
    "name": "ipython",
    "version": 3
   },
   "file_extension": ".py",
   "mimetype": "text/x-python",
   "name": "python",
   "nbconvert_exporter": "python",
   "pygments_lexer": "ipython3",
   "version": "3.7.9"
  }
 },
 "nbformat": 4,
 "nbformat_minor": 2
}
