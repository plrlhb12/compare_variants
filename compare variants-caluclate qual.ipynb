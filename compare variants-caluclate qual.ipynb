{
 "cells": [
  {
   "cell_type": "code",
   "execution_count": 1,
   "metadata": {},
   "outputs": [
    {
     "name": "stdout",
     "output_type": "stream",
     "text": [
      "['Solarize_Light2', '_classic_test_patch', 'bmh', 'classic', 'dark_background', 'fast', 'fivethirtyeight', 'ggplot', 'grayscale', 'seaborn', 'seaborn-bright', 'seaborn-colorblind', 'seaborn-dark', 'seaborn-dark-palette', 'seaborn-darkgrid', 'seaborn-deep', 'seaborn-muted', 'seaborn-notebook', 'seaborn-paper', 'seaborn-pastel', 'seaborn-poster', 'seaborn-talk', 'seaborn-ticks', 'seaborn-white', 'seaborn-whitegrid', 'tableau-colorblind10']\n"
     ]
    }
   ],
   "source": [
    "import pandas as pd\n",
    "import numpy as np\n",
    "import seaborn as sns\n",
    "import matplotlib.pyplot as plt\n",
    "import matplotlib as mpl\n",
    "\n",
    "%matplotlib inline\n",
    "#mpl.rcParams.update(mpl.rcParamsDefault)\n",
    "%config InlineBackend.figure_format = 'retina'\n",
    "\n",
    "#plt.style.use(\"seaborn-white\")\n",
    "print(plt.style.available)\n",
    "\n",
    "#import matplotlib as mpl\n",
    "#mpl.rcParams['figure.dpi'] = 80\n",
    "#mpl.rcParams['figure.dpi'] = 300"
   ]
  },
  {
   "cell_type": "code",
   "execution_count": 3,
   "metadata": {},
   "outputs": [
    {
     "name": "stdout",
     "output_type": "stream",
     "text": [
      "/Users/pengl7/Downloads/WGS/compare-variants\r\n"
     ]
    }
   ],
   "source": [
    "!pwd"
   ]
  },
  {
   "cell_type": "code",
   "execution_count": 24,
   "metadata": {},
   "outputs": [
    {
     "name": "stdout",
     "output_type": "stream",
     "text": [
      "total 1092864\r\n",
      "-rw-r--r--  1 pengl7  NIH\\Domain Users    18K Sep  1 15:07 compare variants-caluclate qual.ipynb\r\n",
      "-rw-r-----  1 pengl7  NIH\\Domain Users    36M Sep  1 15:00 Jax_KOLF2-ARID2-A2_bcfc1_qaul\r\n",
      "-rw-r-----  1 pengl7  NIH\\Domain Users    34M Sep  1 14:59 UNHS_GT19-38445_bcfc1_qaul\r\n",
      "-rw-r-----  1 pengl7  NIH\\Domain Users    38M Sep  1 14:48 long_psomagen_KOLF2.1_variants_qual\r\n",
      "-rw-r-----  1 pengl7  NIH\\Domain Users    37M Sep  1 14:48 long_Jax_KOLF2C1_variants_qual\r\n",
      "-rw-r--r--  1 pengl7  NIH\\Domain Users   453K Sep  1 13:29 compare variants.ipynb\r\n",
      "-rw-r--r--  1 pengl7  NIH\\Domain Users    14K Sep  1 13:29 KOLF2.1_2.png\r\n",
      "-rw-r--r--@ 1 pengl7  NIH\\Domain Users    14K Sep  1 13:29 KOLF2.1_2.pdf\r\n",
      "-rw-r--r--  1 pengl7  NIH\\Domain Users    14K Sep  1 13:24 Psomagen_KOLF2.1.png\r\n",
      "-rw-r--r--  1 pengl7  NIH\\Domain Users    12K Sep  1 13:24 Psomagen_KOLF2.1.pdf\r\n",
      "-rw-r--r--  1 pengl7  NIH\\Domain Users    16K Aug 31 17:01 KOLF2.1-C1-2.png\r\n",
      "-rw-r--r--@ 1 pengl7  NIH\\Domain Users    13K Aug 31 17:01 KOLF2.1-C1-2.pdf\r\n",
      "-rw-r--r--  1 pengl7  NIH\\Domain Users    15K Aug 31 16:59 Jax_2.png\r\n",
      "-rw-r--r--@ 1 pengl7  NIH\\Domain Users    12K Aug 31 16:59 Jax_2.pdf\r\n",
      "-rw-r--r--  1 pengl7  NIH\\Domain Users    79K Aug 31 16:57 long.png\r\n",
      "-rw-r--r--@ 1 pengl7  NIH\\Domain Users    13K Aug 31 16:57 long.pdf\r\n",
      "-rw-r--r--  1 pengl7  NIH\\Domain Users    82K Aug 31 16:57 short_long_KOLF2.1.png\r\n",
      "-rw-r--r--@ 1 pengl7  NIH\\Domain Users    13K Aug 31 16:57 short_long_KOLF2.1.pdf\r\n",
      "-rw-r--r--  1 pengl7  NIH\\Domain Users    21K Aug 31 16:37 3_kolf2.1.png\r\n",
      "-rw-r--r--@ 1 pengl7  NIH\\Domain Users    14K Aug 31 16:37 3_kolf2.1.pdf\r\n",
      "-rw-r--r--  1 pengl7  NIH\\Domain Users    83K Aug 31 16:25 two_short_KOLF2.1.png\r\n",
      "-rw-r--r--@ 1 pengl7  NIH\\Domain Users    13K Aug 31 16:25 two_short_KOLF2.1.pdf\r\n",
      "-rw-r--r--@ 1 pengl7  NIH\\Domain Users    83K Aug 31 16:23 two_KOLF2.1.png\r\n",
      "-rw-r--r--@ 1 pengl7  NIH\\Domain Users    13K Aug 31 16:23 two_KOLF2.1.pdf\r\n",
      "-rw-r-----  1 pengl7  NIH\\Domain Users    91M Aug 31 11:07 long_Jax_KOLF2C1_variants_cut_merage.vcf\r\n",
      "-rw-r-----  1 pengl7  NIH\\Domain Users    93M Aug 31 11:07 long_psomagen_KOLF2.1_variants_cut_merage.vcf\r\n",
      "-rw-r-----  1 pengl7  NIH\\Domain Users    81M Aug 31 11:06 UNHS_GT19-38445_bcfc1_cut_merage.vcf\r\n",
      "-rw-r-----  1 pengl7  NIH\\Domain Users    84M Aug 31 11:05 Jax_KOLF2-ARID2-A2_bcfc1_cut_merage.vcf\r\n"
     ]
    }
   ],
   "source": [
    "%ls -lth"
   ]
  },
  {
   "cell_type": "code",
   "execution_count": 2,
   "metadata": {},
   "outputs": [
    {
     "data": {
      "text/html": [
       "<div>\n",
       "<style scoped>\n",
       "    .dataframe tbody tr th:only-of-type {\n",
       "        vertical-align: middle;\n",
       "    }\n",
       "\n",
       "    .dataframe tbody tr th {\n",
       "        vertical-align: top;\n",
       "    }\n",
       "\n",
       "    .dataframe thead th {\n",
       "        text-align: right;\n",
       "    }\n",
       "</style>\n",
       "<table border=\"1\" class=\"dataframe\">\n",
       "  <thead>\n",
       "    <tr style=\"text-align: right;\">\n",
       "      <th></th>\n",
       "      <th>A</th>\n",
       "    </tr>\n",
       "  </thead>\n",
       "  <tbody>\n",
       "    <tr>\n",
       "      <th>0</th>\n",
       "      <td>46.77</td>\n",
       "    </tr>\n",
       "    <tr>\n",
       "      <th>1</th>\n",
       "      <td>35.77</td>\n",
       "    </tr>\n",
       "    <tr>\n",
       "      <th>2</th>\n",
       "      <td>120.56</td>\n",
       "    </tr>\n",
       "    <tr>\n",
       "      <th>3</th>\n",
       "      <td>21.77</td>\n",
       "    </tr>\n",
       "    <tr>\n",
       "      <th>4</th>\n",
       "      <td>34.77</td>\n",
       "    </tr>\n",
       "  </tbody>\n",
       "</table>\n",
       "</div>"
      ],
      "text/plain": [
       "        A\n",
       "0   46.77\n",
       "1   35.77\n",
       "2  120.56\n",
       "3   21.77\n",
       "4   34.77"
      ]
     },
     "execution_count": 2,
     "metadata": {},
     "output_type": "execute_result"
    }
   ],
   "source": [
    "long_jax = pd.read_csv(\"long_Jax_KOLF2C1_variants_qual\", sep=\"\\t\", header=None)\n",
    "long_jax.columns = [\"A\"]\n",
    "long_jax.head()"
   ]
  },
  {
   "cell_type": "code",
   "execution_count": 31,
   "metadata": {},
   "outputs": [
    {
     "data": {
      "text/html": [
       "<div>\n",
       "<style scoped>\n",
       "    .dataframe tbody tr th:only-of-type {\n",
       "        vertical-align: middle;\n",
       "    }\n",
       "\n",
       "    .dataframe tbody tr th {\n",
       "        vertical-align: top;\n",
       "    }\n",
       "\n",
       "    .dataframe thead th {\n",
       "        text-align: right;\n",
       "    }\n",
       "</style>\n",
       "<table border=\"1\" class=\"dataframe\">\n",
       "  <thead>\n",
       "    <tr style=\"text-align: right;\">\n",
       "      <th></th>\n",
       "      <th>A</th>\n",
       "    </tr>\n",
       "  </thead>\n",
       "  <tbody>\n",
       "    <tr>\n",
       "      <th>count</th>\n",
       "      <td>5.669776e+06</td>\n",
       "    </tr>\n",
       "    <tr>\n",
       "      <th>mean</th>\n",
       "      <td>5.197463e+02</td>\n",
       "    </tr>\n",
       "    <tr>\n",
       "      <th>std</th>\n",
       "      <td>8.506113e+02</td>\n",
       "    </tr>\n",
       "    <tr>\n",
       "      <th>min</th>\n",
       "      <td>1.015000e+01</td>\n",
       "    </tr>\n",
       "    <tr>\n",
       "      <th>25%</th>\n",
       "      <td>1.587700e+02</td>\n",
       "    </tr>\n",
       "    <tr>\n",
       "      <th>50%</th>\n",
       "      <td>4.151800e+02</td>\n",
       "    </tr>\n",
       "    <tr>\n",
       "      <th>75%</th>\n",
       "      <td>7.397700e+02</td>\n",
       "    </tr>\n",
       "    <tr>\n",
       "      <th>max</th>\n",
       "      <td>2.021020e+05</td>\n",
       "    </tr>\n",
       "  </tbody>\n",
       "</table>\n",
       "</div>"
      ],
      "text/plain": [
       "                  A\n",
       "count  5.669776e+06\n",
       "mean   5.197463e+02\n",
       "std    8.506113e+02\n",
       "min    1.015000e+01\n",
       "25%    1.587700e+02\n",
       "50%    4.151800e+02\n",
       "75%    7.397700e+02\n",
       "max    2.021020e+05"
      ]
     },
     "execution_count": 31,
     "metadata": {},
     "output_type": "execute_result"
    }
   ],
   "source": [
    "long_jax.describe()"
   ]
  },
  {
   "cell_type": "code",
   "execution_count": 4,
   "metadata": {},
   "outputs": [
    {
     "data": {
      "text/plain": [
       "5669776"
      ]
     },
     "execution_count": 4,
     "metadata": {},
     "output_type": "execute_result"
    }
   ],
   "source": [
    "len(long_jax)"
   ]
  },
  {
   "cell_type": "code",
   "execution_count": 5,
   "metadata": {},
   "outputs": [
    {
     "data": {
      "text/html": [
       "<div>\n",
       "<style scoped>\n",
       "    .dataframe tbody tr th:only-of-type {\n",
       "        vertical-align: middle;\n",
       "    }\n",
       "\n",
       "    .dataframe tbody tr th {\n",
       "        vertical-align: top;\n",
       "    }\n",
       "\n",
       "    .dataframe thead th {\n",
       "        text-align: right;\n",
       "    }\n",
       "</style>\n",
       "<table border=\"1\" class=\"dataframe\">\n",
       "  <thead>\n",
       "    <tr style=\"text-align: right;\">\n",
       "      <th></th>\n",
       "      <th>A</th>\n",
       "    </tr>\n",
       "  </thead>\n",
       "  <tbody>\n",
       "    <tr>\n",
       "      <th>0</th>\n",
       "      <td>21.80</td>\n",
       "    </tr>\n",
       "    <tr>\n",
       "      <th>1</th>\n",
       "      <td>23.79</td>\n",
       "    </tr>\n",
       "    <tr>\n",
       "      <th>2</th>\n",
       "      <td>43.77</td>\n",
       "    </tr>\n",
       "    <tr>\n",
       "      <th>3</th>\n",
       "      <td>34.73</td>\n",
       "    </tr>\n",
       "    <tr>\n",
       "      <th>4</th>\n",
       "      <td>52.77</td>\n",
       "    </tr>\n",
       "  </tbody>\n",
       "</table>\n",
       "</div>"
      ],
      "text/plain": [
       "       A\n",
       "0  21.80\n",
       "1  23.79\n",
       "2  43.77\n",
       "3  34.73\n",
       "4  52.77"
      ]
     },
     "execution_count": 5,
     "metadata": {},
     "output_type": "execute_result"
    }
   ],
   "source": [
    "long_pso = pd.read_csv(\"long_psomagen_KOLF2.1_variants_qual\", sep=\"\\t\", header=None)\n",
    "long_pso.columns = [\"A\"]\n",
    "long_pso.head()"
   ]
  },
  {
   "cell_type": "code",
   "execution_count": 6,
   "metadata": {},
   "outputs": [
    {
     "name": "stdout",
     "output_type": "stream",
     "text": [
      "total variants are:  5778771\n",
      "varints less than QUAL 20 are:  364384\n",
      "varints less than QUAL 30 are:  586354\n"
     ]
    }
   ],
   "source": [
    "ls20 = long_jax[long_jax[\"A\"] < 20]\n",
    "print('total variants are: ', len(long_pso))\n",
    "print('varints less than QUAL 20 are: ', len(long_jax[long_jax[\"A\"] < 20]))\n",
    "print('varints less than QUAL 30 are: ', len(long_jax[long_jax[\"A\"] < 30]))"
   ]
  },
  {
   "cell_type": "code",
   "execution_count": 21,
   "metadata": {},
   "outputs": [
    {
     "data": {
      "text/html": [
       "<div>\n",
       "<style scoped>\n",
       "    .dataframe tbody tr th:only-of-type {\n",
       "        vertical-align: middle;\n",
       "    }\n",
       "\n",
       "    .dataframe tbody tr th {\n",
       "        vertical-align: top;\n",
       "    }\n",
       "\n",
       "    .dataframe thead th {\n",
       "        text-align: right;\n",
       "    }\n",
       "</style>\n",
       "<table border=\"1\" class=\"dataframe\">\n",
       "  <thead>\n",
       "    <tr style=\"text-align: right;\">\n",
       "      <th></th>\n",
       "      <th>A</th>\n",
       "    </tr>\n",
       "  </thead>\n",
       "  <tbody>\n",
       "    <tr>\n",
       "      <th>count</th>\n",
       "      <td>5.778771e+06</td>\n",
       "    </tr>\n",
       "    <tr>\n",
       "      <th>mean</th>\n",
       "      <td>4.621966e+02</td>\n",
       "    </tr>\n",
       "    <tr>\n",
       "      <th>std</th>\n",
       "      <td>7.966467e+02</td>\n",
       "    </tr>\n",
       "    <tr>\n",
       "      <th>min</th>\n",
       "      <td>1.015000e+01</td>\n",
       "    </tr>\n",
       "    <tr>\n",
       "      <th>25%</th>\n",
       "      <td>8.477000e+01</td>\n",
       "    </tr>\n",
       "    <tr>\n",
       "      <th>50%</th>\n",
       "      <td>3.237800e+02</td>\n",
       "    </tr>\n",
       "    <tr>\n",
       "      <th>75%</th>\n",
       "      <td>6.507300e+02</td>\n",
       "    </tr>\n",
       "    <tr>\n",
       "      <th>max</th>\n",
       "      <td>1.868480e+05</td>\n",
       "    </tr>\n",
       "  </tbody>\n",
       "</table>\n",
       "</div>"
      ],
      "text/plain": [
       "                  A\n",
       "count  5.778771e+06\n",
       "mean   4.621966e+02\n",
       "std    7.966467e+02\n",
       "min    1.015000e+01\n",
       "25%    8.477000e+01\n",
       "50%    3.237800e+02\n",
       "75%    6.507300e+02\n",
       "max    1.868480e+05"
      ]
     },
     "execution_count": 21,
     "metadata": {},
     "output_type": "execute_result"
    }
   ],
   "source": [
    "long_pso.describe()"
   ]
  },
  {
   "cell_type": "code",
   "execution_count": 7,
   "metadata": {},
   "outputs": [
    {
     "name": "stdout",
     "output_type": "stream",
     "text": [
      "total variants are:  5778771\n",
      "varints less than QUAL 20 are:  465280\n",
      "varints less than QUAL 30 are:  747023\n"
     ]
    }
   ],
   "source": [
    "print('total variants are: ', len(long_pso))\n",
    "print('varints less than QUAL 20 are: ', len(long_pso[long_pso[\"A\"] <= 20]))\n",
    "print('varints less than QUAL 30 are: ', len(long_pso[long_pso[\"A\"] <= 30]))"
   ]
  },
  {
   "cell_type": "code",
   "execution_count": 17,
   "metadata": {},
   "outputs": [
    {
     "data": {
      "text/html": [
       "<div>\n",
       "<style scoped>\n",
       "    .dataframe tbody tr th:only-of-type {\n",
       "        vertical-align: middle;\n",
       "    }\n",
       "\n",
       "    .dataframe tbody tr th {\n",
       "        vertical-align: top;\n",
       "    }\n",
       "\n",
       "    .dataframe thead th {\n",
       "        text-align: right;\n",
       "    }\n",
       "</style>\n",
       "<table border=\"1\" class=\"dataframe\">\n",
       "  <thead>\n",
       "    <tr style=\"text-align: right;\">\n",
       "      <th></th>\n",
       "      <th>A</th>\n",
       "    </tr>\n",
       "  </thead>\n",
       "  <tbody>\n",
       "    <tr>\n",
       "      <th>0</th>\n",
       "      <td>269.12</td>\n",
       "    </tr>\n",
       "    <tr>\n",
       "      <th>1</th>\n",
       "      <td>143.53</td>\n",
       "    </tr>\n",
       "    <tr>\n",
       "      <th>2</th>\n",
       "      <td>296.56</td>\n",
       "    </tr>\n",
       "    <tr>\n",
       "      <th>3</th>\n",
       "      <td>186.05</td>\n",
       "    </tr>\n",
       "    <tr>\n",
       "      <th>4</th>\n",
       "      <td>1047.41</td>\n",
       "    </tr>\n",
       "  </tbody>\n",
       "</table>\n",
       "</div>"
      ],
      "text/plain": [
       "         A\n",
       "0   269.12\n",
       "1   143.53\n",
       "2   296.56\n",
       "3   186.05\n",
       "4  1047.41"
      ]
     },
     "execution_count": 17,
     "metadata": {},
     "output_type": "execute_result"
    }
   ],
   "source": [
    "short_jax = pd.read_csv(\"Jax_KOLF2-ARID2-A2_bcfc1_qaul\", sep=\"\\t\", header=None)\n",
    "short_jax.columns = [\"A\"]\n",
    "short_jax.head()"
   ]
  },
  {
   "cell_type": "code",
   "execution_count": 20,
   "metadata": {},
   "outputs": [
    {
     "data": {
      "text/html": [
       "<div>\n",
       "<style scoped>\n",
       "    .dataframe tbody tr th:only-of-type {\n",
       "        vertical-align: middle;\n",
       "    }\n",
       "\n",
       "    .dataframe tbody tr th {\n",
       "        vertical-align: top;\n",
       "    }\n",
       "\n",
       "    .dataframe thead th {\n",
       "        text-align: right;\n",
       "    }\n",
       "</style>\n",
       "<table border=\"1\" class=\"dataframe\">\n",
       "  <thead>\n",
       "    <tr style=\"text-align: right;\">\n",
       "      <th></th>\n",
       "      <th>A</th>\n",
       "    </tr>\n",
       "  </thead>\n",
       "  <tbody>\n",
       "    <tr>\n",
       "      <th>count</th>\n",
       "      <td>5.020825e+06</td>\n",
       "    </tr>\n",
       "    <tr>\n",
       "      <th>mean</th>\n",
       "      <td>3.327981e+03</td>\n",
       "    </tr>\n",
       "    <tr>\n",
       "      <th>std</th>\n",
       "      <td>5.887562e+03</td>\n",
       "    </tr>\n",
       "    <tr>\n",
       "      <th>min</th>\n",
       "      <td>3.000000e+01</td>\n",
       "    </tr>\n",
       "    <tr>\n",
       "      <th>25%</th>\n",
       "      <td>1.186910e+03</td>\n",
       "    </tr>\n",
       "    <tr>\n",
       "      <th>50%</th>\n",
       "      <td>2.756460e+03</td>\n",
       "    </tr>\n",
       "    <tr>\n",
       "      <th>75%</th>\n",
       "      <td>4.907020e+03</td>\n",
       "    </tr>\n",
       "    <tr>\n",
       "      <th>max</th>\n",
       "      <td>1.886940e+06</td>\n",
       "    </tr>\n",
       "  </tbody>\n",
       "</table>\n",
       "</div>"
      ],
      "text/plain": [
       "                  A\n",
       "count  5.020825e+06\n",
       "mean   3.327981e+03\n",
       "std    5.887562e+03\n",
       "min    3.000000e+01\n",
       "25%    1.186910e+03\n",
       "50%    2.756460e+03\n",
       "75%    4.907020e+03\n",
       "max    1.886940e+06"
      ]
     },
     "execution_count": 20,
     "metadata": {},
     "output_type": "execute_result"
    }
   ],
   "source": [
    "short_jax.describe()"
   ]
  },
  {
   "cell_type": "code",
   "execution_count": 23,
   "metadata": {},
   "outputs": [
    {
     "name": "stdout",
     "output_type": "stream",
     "text": [
      "total variants are:  5020825\n",
      "varints less than QUAL 20 are:  1\n"
     ]
    }
   ],
   "source": [
    "print('total variants are: ', len(short_jax))\n",
    "print('varints less than QUAL 20 are: ', len(short_jax[short_jax[\"A\"] <= 30]))"
   ]
  },
  {
   "cell_type": "code",
   "execution_count": 25,
   "metadata": {},
   "outputs": [
    {
     "data": {
      "text/html": [
       "<div>\n",
       "<style scoped>\n",
       "    .dataframe tbody tr th:only-of-type {\n",
       "        vertical-align: middle;\n",
       "    }\n",
       "\n",
       "    .dataframe tbody tr th {\n",
       "        vertical-align: top;\n",
       "    }\n",
       "\n",
       "    .dataframe thead th {\n",
       "        text-align: right;\n",
       "    }\n",
       "</style>\n",
       "<table border=\"1\" class=\"dataframe\">\n",
       "  <thead>\n",
       "    <tr style=\"text-align: right;\">\n",
       "      <th></th>\n",
       "      <th>A</th>\n",
       "    </tr>\n",
       "  </thead>\n",
       "  <tbody>\n",
       "    <tr>\n",
       "      <th>0</th>\n",
       "      <td>289.28</td>\n",
       "    </tr>\n",
       "    <tr>\n",
       "      <th>1</th>\n",
       "      <td>2205.76</td>\n",
       "    </tr>\n",
       "    <tr>\n",
       "      <th>2</th>\n",
       "      <td>1807.10</td>\n",
       "    </tr>\n",
       "    <tr>\n",
       "      <th>3</th>\n",
       "      <td>1801.10</td>\n",
       "    </tr>\n",
       "    <tr>\n",
       "      <th>4</th>\n",
       "      <td>1083.72</td>\n",
       "    </tr>\n",
       "  </tbody>\n",
       "</table>\n",
       "</div>"
      ],
      "text/plain": [
       "         A\n",
       "0   289.28\n",
       "1  2205.76\n",
       "2  1807.10\n",
       "3  1801.10\n",
       "4  1083.72"
      ]
     },
     "execution_count": 25,
     "metadata": {},
     "output_type": "execute_result"
    }
   ],
   "source": [
    "short_pso = pd.read_csv(\"UNHS_GT19-38445_bcfc1_qaul\", sep=\"\\t\", header=None)\n",
    "short_pso.columns = [\"A\"]\n",
    "short_pso.head()"
   ]
  },
  {
   "cell_type": "code",
   "execution_count": 26,
   "metadata": {},
   "outputs": [
    {
     "data": {
      "text/html": [
       "<div>\n",
       "<style scoped>\n",
       "    .dataframe tbody tr th:only-of-type {\n",
       "        vertical-align: middle;\n",
       "    }\n",
       "\n",
       "    .dataframe tbody tr th {\n",
       "        vertical-align: top;\n",
       "    }\n",
       "\n",
       "    .dataframe thead th {\n",
       "        text-align: right;\n",
       "    }\n",
       "</style>\n",
       "<table border=\"1\" class=\"dataframe\">\n",
       "  <thead>\n",
       "    <tr style=\"text-align: right;\">\n",
       "      <th></th>\n",
       "      <th>A</th>\n",
       "    </tr>\n",
       "  </thead>\n",
       "  <tbody>\n",
       "    <tr>\n",
       "      <th>count</th>\n",
       "      <td>4.715184e+06</td>\n",
       "    </tr>\n",
       "    <tr>\n",
       "      <th>mean</th>\n",
       "      <td>5.797211e+03</td>\n",
       "    </tr>\n",
       "    <tr>\n",
       "      <th>std</th>\n",
       "      <td>4.203729e+03</td>\n",
       "    </tr>\n",
       "    <tr>\n",
       "      <th>min</th>\n",
       "      <td>3.001000e+01</td>\n",
       "    </tr>\n",
       "    <tr>\n",
       "      <th>25%</th>\n",
       "      <td>2.236900e+03</td>\n",
       "    </tr>\n",
       "    <tr>\n",
       "      <th>50%</th>\n",
       "      <td>5.030890e+03</td>\n",
       "    </tr>\n",
       "    <tr>\n",
       "      <th>75%</th>\n",
       "      <td>8.771960e+03</td>\n",
       "    </tr>\n",
       "    <tr>\n",
       "      <th>max</th>\n",
       "      <td>5.425390e+04</td>\n",
       "    </tr>\n",
       "  </tbody>\n",
       "</table>\n",
       "</div>"
      ],
      "text/plain": [
       "                  A\n",
       "count  4.715184e+06\n",
       "mean   5.797211e+03\n",
       "std    4.203729e+03\n",
       "min    3.001000e+01\n",
       "25%    2.236900e+03\n",
       "50%    5.030890e+03\n",
       "75%    8.771960e+03\n",
       "max    5.425390e+04"
      ]
     },
     "execution_count": 26,
     "metadata": {},
     "output_type": "execute_result"
    }
   ],
   "source": [
    "short_pso.describe()"
   ]
  },
  {
   "cell_type": "code",
   "execution_count": 29,
   "metadata": {},
   "outputs": [
    {
     "name": "stdout",
     "output_type": "stream",
     "text": [
      "total variants are:  4715184\n",
      "varints less than QUAL 20 are:  0\n"
     ]
    }
   ],
   "source": [
    "print('total variants are: ', len(short_pso))\n",
    "print('varints less than QUAL 20 are: ', len(short_pso[short_pso[\"A\"] <= 30]))"
   ]
  },
  {
   "cell_type": "code",
   "execution_count": null,
   "metadata": {},
   "outputs": [],
   "source": []
  }
 ],
 "metadata": {
  "kernelspec": {
   "display_name": "genomics",
   "language": "python",
   "name": "genomics"
  },
  "language_info": {
   "codemirror_mode": {
    "name": "ipython",
    "version": 3
   },
   "file_extension": ".py",
   "mimetype": "text/x-python",
   "name": "python",
   "nbconvert_exporter": "python",
   "pygments_lexer": "ipython3",
   "version": "3.7.7"
  }
 },
 "nbformat": 4,
 "nbformat_minor": 4
}
