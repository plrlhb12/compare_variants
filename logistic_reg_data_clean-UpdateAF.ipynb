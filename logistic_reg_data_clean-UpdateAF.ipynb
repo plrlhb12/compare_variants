{
 "cells": [
  {
   "cell_type": "code",
   "execution_count": 1,
   "metadata": {},
   "outputs": [],
   "source": [
    "import os\n",
    "import sys\n",
    "import argparse \n",
    "import math\n",
    "import time\n",
    "import h5py\n",
    "import joblib\n",
    "import subprocess\n",
    "import numpy as np\n",
    "import pandas as pd\n",
    "import scipy\n",
    "import statsmodels.api as sm\n",
    "import matplotlib.pyplot as plt \n",
    "import seaborn as sns"
   ]
  },
  {
   "cell_type": "code",
   "execution_count": 2,
   "metadata": {},
   "outputs": [],
   "source": [
    "os.chdir('/Users/pengl7/Downloads/WGS/compare-variants/NIST/')"
   ]
  },
  {
   "cell_type": "code",
   "execution_count": 16,
   "metadata": {
    "tags": []
   },
   "outputs": [
    {
     "name": "stdout",
     "output_type": "stream",
     "text": [
      "total 142592\r\n",
      "-rw-r-----  1 pengl7  NIH\\Domain Users    15M Oct  1 15:06 long_UpdateAF4_with_title\r\n",
      "drwxr-xr-x  9 pengl7  NIH\\Domain Users   288B Sep 29 21:38 \u001b[34mNIST_ref\u001b[m\u001b[m/\r\n",
      "-rw-r--r--@ 1 pengl7  NIH\\Domain Users   301B Sep 28 20:55 sum of variants filtering.csv\r\n",
      "-rw-r--r--@ 1 pengl7  NIH\\Domain Users   9.7K Sep 28 16:43 sum of variants filtering.xlsx\r\n",
      "-rw-r--r--  1 pengl7  NIH\\Domain Users    20M Sep 28 13:03 long_cleared_QD.csv\r\n",
      "-rw-r--r--  1 pengl7  NIH\\Domain Users    21M Sep 25 16:58 long_cleared.csv\r\n",
      "-rw-r-----  1 pengl7  NIH\\Domain Users    12M Sep 25 10:35 long4_with_title\r\n"
     ]
    }
   ],
   "source": [
    "%ls -lth"
   ]
  },
  {
   "cell_type": "code",
   "execution_count": 5,
   "metadata": {},
   "outputs": [
    {
     "name": "stderr",
     "output_type": "stream",
     "text": [
      "/Users/pengl7/opt/anaconda3/envs/genomics/lib/python3.7/site-packages/IPython/core/interactiveshell.py:3146: DtypeWarning: Columns (6,7,8,9) have mixed types.Specify dtype option on import or set low_memory=False.\n",
      "  interactivity=interactivity, compiler=compiler, result=result)\n"
     ]
    }
   ],
   "source": [
    "# df = pd.read_csv(\"long4_with_title\", sep=\"\\t\",index_col=\"POS\", na_values={}, dtype={'UNMATCH': \"category\", \"DP\": \"float\", \"GQ\": \"float\", \"MQ\": \"float\"}, )\n",
    "df = pd.read_csv(\"long_UpdateAF4_with_title\", sep=\"\\t\")"
   ]
  },
  {
   "cell_type": "code",
   "execution_count": 6,
   "metadata": {
    "tags": []
   },
   "outputs": [
    {
     "name": "stdout",
     "output_type": "stream",
     "text": [
      "(339882, 10)\n",
      "['POS', 'UNMATCH', 'TYPE', 'QUAL', 'FS', 'AF', 'DP', 'GQ', 'MQ', 'QD']\n"
     ]
    }
   ],
   "source": [
    "print(df.shape)\n",
    "print(df.columns.to_list())"
   ]
  },
  {
   "cell_type": "code",
   "execution_count": 7,
   "metadata": {},
   "outputs": [
    {
     "data": {
      "text/plain": [
       "POS          int64\n",
       "UNMATCH      int64\n",
       "TYPE         int64\n",
       "QUAL       float64\n",
       "FS         float64\n",
       "AF         float64\n",
       "DP          object\n",
       "GQ          object\n",
       "MQ          object\n",
       "QD          object\n",
       "dtype: object"
      ]
     },
     "execution_count": 7,
     "metadata": {},
     "output_type": "execute_result"
    }
   ],
   "source": [
    "df.dtypes"
   ]
  },
  {
   "cell_type": "code",
   "execution_count": 9,
   "metadata": {},
   "outputs": [
    {
     "data": {
      "text/html": [
       "<div>\n",
       "<style scoped>\n",
       "    .dataframe tbody tr th:only-of-type {\n",
       "        vertical-align: middle;\n",
       "    }\n",
       "\n",
       "    .dataframe tbody tr th {\n",
       "        vertical-align: top;\n",
       "    }\n",
       "\n",
       "    .dataframe thead th {\n",
       "        text-align: right;\n",
       "    }\n",
       "</style>\n",
       "<table border=\"1\" class=\"dataframe\">\n",
       "  <thead>\n",
       "    <tr style=\"text-align: right;\">\n",
       "      <th></th>\n",
       "      <th>POS</th>\n",
       "      <th>UNMATCH</th>\n",
       "      <th>TYPE</th>\n",
       "      <th>QUAL</th>\n",
       "      <th>FS</th>\n",
       "      <th>AF</th>\n",
       "    </tr>\n",
       "  </thead>\n",
       "  <tbody>\n",
       "    <tr>\n",
       "      <th>count</th>\n",
       "      <td>3.398820e+05</td>\n",
       "      <td>339882.000000</td>\n",
       "      <td>339882.000000</td>\n",
       "      <td>339882.000000</td>\n",
       "      <td>339882.000000</td>\n",
       "      <td>339882.000000</td>\n",
       "    </tr>\n",
       "    <tr>\n",
       "      <th>mean</th>\n",
       "      <td>1.256505e+08</td>\n",
       "      <td>0.102515</td>\n",
       "      <td>0.161209</td>\n",
       "      <td>480.435447</td>\n",
       "      <td>1.733839</td>\n",
       "      <td>0.516540</td>\n",
       "    </tr>\n",
       "    <tr>\n",
       "      <th>std</th>\n",
       "      <td>7.641421e+07</td>\n",
       "      <td>0.303325</td>\n",
       "      <td>0.367724</td>\n",
       "      <td>720.749342</td>\n",
       "      <td>3.342157</td>\n",
       "      <td>0.293846</td>\n",
       "    </tr>\n",
       "    <tr>\n",
       "      <th>min</th>\n",
       "      <td>1.014600e+04</td>\n",
       "      <td>0.000000</td>\n",
       "      <td>0.000000</td>\n",
       "      <td>30.250000</td>\n",
       "      <td>0.000000</td>\n",
       "      <td>0.000000</td>\n",
       "    </tr>\n",
       "    <tr>\n",
       "      <th>25%</th>\n",
       "      <td>5.925409e+07</td>\n",
       "      <td>0.000000</td>\n",
       "      <td>0.000000</td>\n",
       "      <td>233.770000</td>\n",
       "      <td>0.000000</td>\n",
       "      <td>0.279553</td>\n",
       "    </tr>\n",
       "    <tr>\n",
       "      <th>50%</th>\n",
       "      <td>1.148292e+08</td>\n",
       "      <td>0.000000</td>\n",
       "      <td>0.000000</td>\n",
       "      <td>385.770000</td>\n",
       "      <td>0.000000</td>\n",
       "      <td>0.500000</td>\n",
       "    </tr>\n",
       "    <tr>\n",
       "      <th>75%</th>\n",
       "      <td>1.950176e+08</td>\n",
       "      <td>0.000000</td>\n",
       "      <td>0.000000</td>\n",
       "      <td>647.770000</td>\n",
       "      <td>2.218000</td>\n",
       "      <td>0.757788</td>\n",
       "    </tr>\n",
       "    <tr>\n",
       "      <th>max</th>\n",
       "      <td>2.489456e+08</td>\n",
       "      <td>1.000000</td>\n",
       "      <td>1.000000</td>\n",
       "      <td>117461.000000</td>\n",
       "      <td>357.189000</td>\n",
       "      <td>1.000000</td>\n",
       "    </tr>\n",
       "  </tbody>\n",
       "</table>\n",
       "</div>"
      ],
      "text/plain": [
       "                POS        UNMATCH           TYPE           QUAL  \\\n",
       "count  3.398820e+05  339882.000000  339882.000000  339882.000000   \n",
       "mean   1.256505e+08       0.102515       0.161209     480.435447   \n",
       "std    7.641421e+07       0.303325       0.367724     720.749342   \n",
       "min    1.014600e+04       0.000000       0.000000      30.250000   \n",
       "25%    5.925409e+07       0.000000       0.000000     233.770000   \n",
       "50%    1.148292e+08       0.000000       0.000000     385.770000   \n",
       "75%    1.950176e+08       0.000000       0.000000     647.770000   \n",
       "max    2.489456e+08       1.000000       1.000000  117461.000000   \n",
       "\n",
       "                  FS             AF  \n",
       "count  339882.000000  339882.000000  \n",
       "mean        1.733839       0.516540  \n",
       "std         3.342157       0.293846  \n",
       "min         0.000000       0.000000  \n",
       "25%         0.000000       0.279553  \n",
       "50%         0.000000       0.500000  \n",
       "75%         2.218000       0.757788  \n",
       "max       357.189000       1.000000  "
      ]
     },
     "execution_count": 9,
     "metadata": {},
     "output_type": "execute_result"
    }
   ],
   "source": [
    "df.describe()"
   ]
  },
  {
   "cell_type": "markdown",
   "metadata": {},
   "source": [
    "## Get rid of some non-numeric values and change data types"
   ]
  },
  {
   "cell_type": "code",
   "execution_count": 11,
   "metadata": {},
   "outputs": [
    {
     "name": "stdout",
     "output_type": "stream",
     "text": [
      "20\n",
      "20\n",
      "2\n",
      "2\n"
     ]
    }
   ],
   "source": [
    "for col in ['DP', 'GQ', 'MQ', 'QD']:\n",
    "    print(len(df[df[col]== \".\"]))"
   ]
  },
  {
   "cell_type": "code",
   "execution_count": 14,
   "metadata": {
    "tags": []
   },
   "outputs": [
    {
     "name": "stdout",
     "output_type": "stream",
     "text": [
      "(339860, 10)\n"
     ]
    }
   ],
   "source": [
    "myFilter = (df[\"DP\"]!= \".\") & (df[\"GQ\"]!= \".\") & (df[\"MQ\"]!= \".\") & (df[\"QD\"]!= \".\")\n",
    "df = df[myFilter]\n",
    "print(df.shape)"
   ]
  },
  {
   "cell_type": "code",
   "execution_count": 20,
   "metadata": {},
   "outputs": [
    {
     "name": "stderr",
     "output_type": "stream",
     "text": [
      "/Users/pengl7/opt/anaconda3/envs/genomics/lib/python3.7/site-packages/ipykernel_launcher.py:4: SettingWithCopyWarning: \n",
      "A value is trying to be set on a copy of a slice from a DataFrame.\n",
      "Try using .loc[row_indexer,col_indexer] = value instead\n",
      "\n",
      "See the caveats in the documentation: https://pandas.pydata.org/pandas-docs/stable/user_guide/indexing.html#returning-a-view-versus-a-copy\n",
      "  after removing the cwd from sys.path.\n"
     ]
    }
   ],
   "source": [
    "# change data type \n",
    "cols = ['DP', 'GQ', 'MQ', \"QD\"]\n",
    "for col in cols:\n",
    "    df[col]= df[col].astype(\"float\")"
   ]
  },
  {
   "cell_type": "code",
   "execution_count": 21,
   "metadata": {},
   "outputs": [],
   "source": [
    "df.to_csv(\"long_cleared_UpdateAF.csv\")"
   ]
  },
  {
   "cell_type": "markdown",
   "metadata": {},
   "source": [
    "## Apply logsistic regression model"
   ]
  },
  {
   "cell_type": "code",
   "execution_count": 28,
   "metadata": {},
   "outputs": [
    {
     "data": {
      "text/html": [
       "<div>\n",
       "<style scoped>\n",
       "    .dataframe tbody tr th:only-of-type {\n",
       "        vertical-align: middle;\n",
       "    }\n",
       "\n",
       "    .dataframe tbody tr th {\n",
       "        vertical-align: top;\n",
       "    }\n",
       "\n",
       "    .dataframe thead th {\n",
       "        text-align: right;\n",
       "    }\n",
       "</style>\n",
       "<table border=\"1\" class=\"dataframe\">\n",
       "  <thead>\n",
       "    <tr style=\"text-align: right;\">\n",
       "      <th></th>\n",
       "      <th>POS</th>\n",
       "      <th>UNMATCH</th>\n",
       "      <th>QUAL</th>\n",
       "      <th>FS</th>\n",
       "      <th>AF</th>\n",
       "      <th>DP</th>\n",
       "      <th>GQ</th>\n",
       "      <th>MQ</th>\n",
       "      <th>QD</th>\n",
       "    </tr>\n",
       "  </thead>\n",
       "  <tbody>\n",
       "    <tr>\n",
       "      <th>count</th>\n",
       "      <td>3.398600e+05</td>\n",
       "      <td>339860.000000</td>\n",
       "      <td>339860.000000</td>\n",
       "      <td>339860.000000</td>\n",
       "      <td>339860.000000</td>\n",
       "      <td>339860.000000</td>\n",
       "      <td>339860.000000</td>\n",
       "      <td>339860.000000</td>\n",
       "      <td>339860.000000</td>\n",
       "    </tr>\n",
       "    <tr>\n",
       "      <th>mean</th>\n",
       "      <td>1.256499e+08</td>\n",
       "      <td>0.102457</td>\n",
       "      <td>480.445892</td>\n",
       "      <td>1.733951</td>\n",
       "      <td>0.516533</td>\n",
       "      <td>19.790970</td>\n",
       "      <td>78.836871</td>\n",
       "      <td>59.430544</td>\n",
       "      <td>20.941954</td>\n",
       "    </tr>\n",
       "    <tr>\n",
       "      <th>std</th>\n",
       "      <td>7.641397e+07</td>\n",
       "      <td>0.303249</td>\n",
       "      <td>720.769333</td>\n",
       "      <td>3.342236</td>\n",
       "      <td>0.293848</td>\n",
       "      <td>22.881138</td>\n",
       "      <td>27.074520</td>\n",
       "      <td>2.707473</td>\n",
       "      <td>8.644774</td>\n",
       "    </tr>\n",
       "    <tr>\n",
       "      <th>min</th>\n",
       "      <td>1.014600e+04</td>\n",
       "      <td>0.000000</td>\n",
       "      <td>30.250000</td>\n",
       "      <td>0.000000</td>\n",
       "      <td>0.000000</td>\n",
       "      <td>0.000000</td>\n",
       "      <td>0.000000</td>\n",
       "      <td>20.000000</td>\n",
       "      <td>0.120000</td>\n",
       "    </tr>\n",
       "    <tr>\n",
       "      <th>25%</th>\n",
       "      <td>5.925370e+07</td>\n",
       "      <td>0.000000</td>\n",
       "      <td>233.770000</td>\n",
       "      <td>0.000000</td>\n",
       "      <td>0.279553</td>\n",
       "      <td>14.000000</td>\n",
       "      <td>59.000000</td>\n",
       "      <td>60.000000</td>\n",
       "      <td>13.950000</td>\n",
       "    </tr>\n",
       "    <tr>\n",
       "      <th>50%</th>\n",
       "      <td>1.148291e+08</td>\n",
       "      <td>0.000000</td>\n",
       "      <td>385.770000</td>\n",
       "      <td>0.000000</td>\n",
       "      <td>0.500000</td>\n",
       "      <td>19.000000</td>\n",
       "      <td>99.000000</td>\n",
       "      <td>60.000000</td>\n",
       "      <td>20.120000</td>\n",
       "    </tr>\n",
       "    <tr>\n",
       "      <th>75%</th>\n",
       "      <td>1.950171e+08</td>\n",
       "      <td>0.000000</td>\n",
       "      <td>647.770000</td>\n",
       "      <td>2.218000</td>\n",
       "      <td>0.757788</td>\n",
       "      <td>24.000000</td>\n",
       "      <td>99.000000</td>\n",
       "      <td>60.000000</td>\n",
       "      <td>28.990000</td>\n",
       "    </tr>\n",
       "    <tr>\n",
       "      <th>max</th>\n",
       "      <td>2.489456e+08</td>\n",
       "      <td>1.000000</td>\n",
       "      <td>117461.000000</td>\n",
       "      <td>357.189000</td>\n",
       "      <td>1.000000</td>\n",
       "      <td>3142.000000</td>\n",
       "      <td>99.000000</td>\n",
       "      <td>60.000000</td>\n",
       "      <td>42.890000</td>\n",
       "    </tr>\n",
       "  </tbody>\n",
       "</table>\n",
       "</div>"
      ],
      "text/plain": [
       "                POS        UNMATCH           QUAL             FS  \\\n",
       "count  3.398600e+05  339860.000000  339860.000000  339860.000000   \n",
       "mean   1.256499e+08       0.102457     480.445892       1.733951   \n",
       "std    7.641397e+07       0.303249     720.769333       3.342236   \n",
       "min    1.014600e+04       0.000000      30.250000       0.000000   \n",
       "25%    5.925370e+07       0.000000     233.770000       0.000000   \n",
       "50%    1.148291e+08       0.000000     385.770000       0.000000   \n",
       "75%    1.950171e+08       0.000000     647.770000       2.218000   \n",
       "max    2.489456e+08       1.000000  117461.000000     357.189000   \n",
       "\n",
       "                  AF             DP             GQ             MQ  \\\n",
       "count  339860.000000  339860.000000  339860.000000  339860.000000   \n",
       "mean        0.516533      19.790970      78.836871      59.430544   \n",
       "std         0.293848      22.881138      27.074520       2.707473   \n",
       "min         0.000000       0.000000       0.000000      20.000000   \n",
       "25%         0.279553      14.000000      59.000000      60.000000   \n",
       "50%         0.500000      19.000000      99.000000      60.000000   \n",
       "75%         0.757788      24.000000      99.000000      60.000000   \n",
       "max         1.000000    3142.000000      99.000000      60.000000   \n",
       "\n",
       "                  QD  \n",
       "count  339860.000000  \n",
       "mean       20.941954  \n",
       "std         8.644774  \n",
       "min         0.120000  \n",
       "25%        13.950000  \n",
       "50%        20.120000  \n",
       "75%        28.990000  \n",
       "max        42.890000  "
      ]
     },
     "execution_count": 28,
     "metadata": {},
     "output_type": "execute_result"
    }
   ],
   "source": [
    "df.describe()"
   ]
  },
  {
   "cell_type": "code",
   "execution_count": 25,
   "metadata": {},
   "outputs": [
    {
     "name": "stderr",
     "output_type": "stream",
     "text": [
      "/Users/pengl7/opt/anaconda3/envs/genomics/lib/python3.7/site-packages/ipykernel_launcher.py:1: SettingWithCopyWarning: \n",
      "A value is trying to be set on a copy of a slice from a DataFrame.\n",
      "Try using .loc[row_indexer,col_indexer] = value instead\n",
      "\n",
      "See the caveats in the documentation: https://pandas.pydata.org/pandas-docs/stable/user_guide/indexing.html#returning-a-view-versus-a-copy\n",
      "  \"\"\"Entry point for launching an IPython kernel.\n"
     ]
    }
   ],
   "source": [
    "df[\"TYPE\"] = df[\"TYPE\"].astype(\"category\")"
   ]
  },
  {
   "cell_type": "code",
   "execution_count": 26,
   "metadata": {},
   "outputs": [
    {
     "data": {
      "text/html": [
       "<table class=\"simpletable\">\n",
       "<caption>Generalized Linear Model Regression Results</caption>\n",
       "<tr>\n",
       "  <th>Dep. Variable:</th>        <td>UNMATCH</td>     <th>  No. Observations:  </th>   <td>339860</td>  \n",
       "</tr>\n",
       "<tr>\n",
       "  <th>Model:</th>                  <td>GLM</td>       <th>  Df Residuals:      </th>   <td>339851</td>  \n",
       "</tr>\n",
       "<tr>\n",
       "  <th>Model Family:</th>        <td>Binomial</td>     <th>  Df Model:          </th>   <td>     8</td>  \n",
       "</tr>\n",
       "<tr>\n",
       "  <th>Link Function:</th>         <td>logit</td>      <th>  Scale:             </th>  <td>  1.0000</td> \n",
       "</tr>\n",
       "<tr>\n",
       "  <th>Method:</th>                <td>IRLS</td>       <th>  Log-Likelihood:    </th>  <td> -85342.</td> \n",
       "</tr>\n",
       "<tr>\n",
       "  <th>Date:</th>            <td>Thu, 01 Oct 2020</td> <th>  Deviance:          </th> <td>1.7068e+05</td>\n",
       "</tr>\n",
       "<tr>\n",
       "  <th>Time:</th>                <td>15:24:49</td>     <th>  Pearson chi2:      </th>  <td>3.30e+05</td> \n",
       "</tr>\n",
       "<tr>\n",
       "  <th>No. Iterations:</th>          <td>6</td>        <th>                     </th>      <td> </td>    \n",
       "</tr>\n",
       "<tr>\n",
       "  <th>Covariance Type:</th>     <td>nonrobust</td>    <th>                     </th>      <td> </td>    \n",
       "</tr>\n",
       "</table>\n",
       "<table class=\"simpletable\">\n",
       "<tr>\n",
       "      <td></td>         <th>coef</th>     <th>std err</th>      <th>z</th>      <th>P>|z|</th>  <th>[0.025</th>    <th>0.975]</th>  \n",
       "</tr>\n",
       "<tr>\n",
       "  <th>Intercept</th> <td>   12.2662</td> <td>    0.120</td> <td>  102.450</td> <td> 0.000</td> <td>   12.032</td> <td>   12.501</td>\n",
       "</tr>\n",
       "<tr>\n",
       "  <th>TYPE[T.1]</th> <td>    1.5735</td> <td>    0.015</td> <td>  107.630</td> <td> 0.000</td> <td>    1.545</td> <td>    1.602</td>\n",
       "</tr>\n",
       "<tr>\n",
       "  <th>DP</th>        <td>    0.0078</td> <td>    0.001</td> <td>   10.081</td> <td> 0.000</td> <td>    0.006</td> <td>    0.009</td>\n",
       "</tr>\n",
       "<tr>\n",
       "  <th>GQ</th>        <td>   -0.0193</td> <td>    0.000</td> <td>  -69.527</td> <td> 0.000</td> <td>   -0.020</td> <td>   -0.019</td>\n",
       "</tr>\n",
       "<tr>\n",
       "  <th>QUAL</th>      <td>   -0.0002</td> <td> 2.64e-05</td> <td>   -7.791</td> <td> 0.000</td> <td>   -0.000</td> <td>   -0.000</td>\n",
       "</tr>\n",
       "<tr>\n",
       "  <th>FS</th>        <td>    0.0176</td> <td>    0.002</td> <td>    8.302</td> <td> 0.000</td> <td>    0.013</td> <td>    0.022</td>\n",
       "</tr>\n",
       "<tr>\n",
       "  <th>AF</th>        <td>    0.9348</td> <td>    0.027</td> <td>   34.462</td> <td> 0.000</td> <td>    0.882</td> <td>    0.988</td>\n",
       "</tr>\n",
       "<tr>\n",
       "  <th>MQ</th>        <td>   -0.2178</td> <td>    0.002</td> <td> -110.902</td> <td> 0.000</td> <td>   -0.222</td> <td>   -0.214</td>\n",
       "</tr>\n",
       "<tr>\n",
       "  <th>QD</th>        <td>   -0.0615</td> <td>    0.001</td> <td>  -56.421</td> <td> 0.000</td> <td>   -0.064</td> <td>   -0.059</td>\n",
       "</tr>\n",
       "</table>"
      ],
      "text/plain": [
       "<class 'statsmodels.iolib.summary.Summary'>\n",
       "\"\"\"\n",
       "                 Generalized Linear Model Regression Results                  \n",
       "==============================================================================\n",
       "Dep. Variable:                UNMATCH   No. Observations:               339860\n",
       "Model:                            GLM   Df Residuals:                   339851\n",
       "Model Family:                Binomial   Df Model:                            8\n",
       "Link Function:                  logit   Scale:                          1.0000\n",
       "Method:                          IRLS   Log-Likelihood:                -85342.\n",
       "Date:                Thu, 01 Oct 2020   Deviance:                   1.7068e+05\n",
       "Time:                        15:24:49   Pearson chi2:                 3.30e+05\n",
       "No. Iterations:                     6                                         \n",
       "Covariance Type:            nonrobust                                         \n",
       "==============================================================================\n",
       "                 coef    std err          z      P>|z|      [0.025      0.975]\n",
       "------------------------------------------------------------------------------\n",
       "Intercept     12.2662      0.120    102.450      0.000      12.032      12.501\n",
       "TYPE[T.1]      1.5735      0.015    107.630      0.000       1.545       1.602\n",
       "DP             0.0078      0.001     10.081      0.000       0.006       0.009\n",
       "GQ            -0.0193      0.000    -69.527      0.000      -0.020      -0.019\n",
       "QUAL          -0.0002   2.64e-05     -7.791      0.000      -0.000      -0.000\n",
       "FS             0.0176      0.002      8.302      0.000       0.013       0.022\n",
       "AF             0.9348      0.027     34.462      0.000       0.882       0.988\n",
       "MQ            -0.2178      0.002   -110.902      0.000      -0.222      -0.214\n",
       "QD            -0.0615      0.001    -56.421      0.000      -0.064      -0.059\n",
       "==============================================================================\n",
       "\"\"\""
      ]
     },
     "execution_count": 26,
     "metadata": {},
     "output_type": "execute_result"
    }
   ],
   "source": [
    "this_formula = \"UNMATCH ~ TYPE + DP + GQ + QUAL + FS + AF + MQ + QD\"\n",
    "res = sm.formula.glm(formula=this_formula, family=sm.families.Binomial(), data=df).fit() \n",
    "res.summary()"
   ]
  },
  {
   "cell_type": "code",
   "execution_count": 27,
   "metadata": {
    "tags": []
   },
   "outputs": [
    {
     "name": "stdout",
     "output_type": "stream",
     "text": [
      "Coefficeients\n",
      "Intercept    12.266173\n",
      "TYPE[T.1]     1.573524\n",
      "DP            0.007779\n",
      "GQ           -0.019305\n",
      "QUAL         -0.000206\n",
      "FS            0.017602\n",
      "AF            0.934848\n",
      "MQ           -0.217819\n",
      "QD           -0.061512\n",
      "dtype: float64\n",
      "\n",
      "p-Values\n",
      "Intercept     0.000000e+00\n",
      "TYPE[T.1]     0.000000e+00\n",
      "DP            6.735944e-24\n",
      "GQ            0.000000e+00\n",
      "QUAL          6.630611e-15\n",
      "FS            1.025430e-16\n",
      "AF           2.945804e-260\n",
      "MQ            0.000000e+00\n",
      "QD            0.000000e+00\n",
      "dtype: float64\n",
      "\n",
      "Dependent variables\n",
      "UNMATCH\n"
     ]
    }
   ],
   "source": [
    "print(\"Coefficeients\")\n",
    "print(res.params)\n",
    "print()\n",
    "print(\"p-Values\")\n",
    "print(res.pvalues)\n",
    "print()\n",
    "print(\"Dependent variables\")\n",
    "print(res.model.endog_names)"
   ]
  },
  {
   "cell_type": "code",
   "execution_count": 29,
   "metadata": {},
   "outputs": [
    {
     "name": "stdout",
     "output_type": "stream",
     "text": [
      "297642\n"
     ]
    }
   ],
   "source": [
    "# remove those variants which AF hasn't been updated \n",
    "filt1 = (df[\"AF\"]!=0.5) & (df[\"AF\"]!=1.0)\n",
    "df_MAF = df[filt1]\n",
    "print(len(df_MAF))"
   ]
  },
  {
   "cell_type": "code",
   "execution_count": 30,
   "metadata": {},
   "outputs": [
    {
     "data": {
      "text/html": [
       "<table class=\"simpletable\">\n",
       "<caption>Generalized Linear Model Regression Results</caption>\n",
       "<tr>\n",
       "  <th>Dep. Variable:</th>        <td>UNMATCH</td>     <th>  No. Observations:  </th>  <td>297642</td> \n",
       "</tr>\n",
       "<tr>\n",
       "  <th>Model:</th>                  <td>GLM</td>       <th>  Df Residuals:      </th>  <td>297633</td> \n",
       "</tr>\n",
       "<tr>\n",
       "  <th>Model Family:</th>        <td>Binomial</td>     <th>  Df Model:          </th>  <td>     8</td> \n",
       "</tr>\n",
       "<tr>\n",
       "  <th>Link Function:</th>         <td>logit</td>      <th>  Scale:             </th> <td>  1.0000</td>\n",
       "</tr>\n",
       "<tr>\n",
       "  <th>Method:</th>                <td>IRLS</td>       <th>  Log-Likelihood:    </th> <td> -48759.</td>\n",
       "</tr>\n",
       "<tr>\n",
       "  <th>Date:</th>            <td>Fri, 02 Oct 2020</td> <th>  Deviance:          </th> <td>  97517.</td>\n",
       "</tr>\n",
       "<tr>\n",
       "  <th>Time:</th>                <td>11:13:39</td>     <th>  Pearson chi2:      </th> <td>2.90e+05</td>\n",
       "</tr>\n",
       "<tr>\n",
       "  <th>No. Iterations:</th>          <td>7</td>        <th>                     </th>     <td> </td>   \n",
       "</tr>\n",
       "<tr>\n",
       "  <th>Covariance Type:</th>     <td>nonrobust</td>    <th>                     </th>     <td> </td>   \n",
       "</tr>\n",
       "</table>\n",
       "<table class=\"simpletable\">\n",
       "<tr>\n",
       "      <td></td>         <th>coef</th>     <th>std err</th>      <th>z</th>      <th>P>|z|</th>  <th>[0.025</th>    <th>0.975]</th>  \n",
       "</tr>\n",
       "<tr>\n",
       "  <th>Intercept</th> <td>   12.4685</td> <td>    0.259</td> <td>   48.137</td> <td> 0.000</td> <td>   11.961</td> <td>   12.976</td>\n",
       "</tr>\n",
       "<tr>\n",
       "  <th>TYPE[T.1]</th> <td>    1.2458</td> <td>    0.022</td> <td>   56.324</td> <td> 0.000</td> <td>    1.202</td> <td>    1.289</td>\n",
       "</tr>\n",
       "<tr>\n",
       "  <th>DP</th>        <td>    0.0024</td> <td>    0.001</td> <td>    2.258</td> <td> 0.024</td> <td>    0.000</td> <td>    0.004</td>\n",
       "</tr>\n",
       "<tr>\n",
       "  <th>GQ</th>        <td>   -0.0206</td> <td>    0.000</td> <td>  -50.653</td> <td> 0.000</td> <td>   -0.021</td> <td>   -0.020</td>\n",
       "</tr>\n",
       "<tr>\n",
       "  <th>QUAL</th>      <td> 8.519e-05</td> <td> 3.83e-05</td> <td>    2.226</td> <td> 0.026</td> <td> 1.02e-05</td> <td>    0.000</td>\n",
       "</tr>\n",
       "<tr>\n",
       "  <th>FS</th>        <td>    0.0154</td> <td>    0.003</td> <td>    5.024</td> <td> 0.000</td> <td>    0.009</td> <td>    0.021</td>\n",
       "</tr>\n",
       "<tr>\n",
       "  <th>AF</th>        <td>   -0.0125</td> <td>    0.037</td> <td>   -0.338</td> <td> 0.735</td> <td>   -0.085</td> <td>    0.060</td>\n",
       "</tr>\n",
       "<tr>\n",
       "  <th>MQ</th>        <td>   -0.2239</td> <td>    0.004</td> <td>  -52.006</td> <td> 0.000</td> <td>   -0.232</td> <td>   -0.215</td>\n",
       "</tr>\n",
       "<tr>\n",
       "  <th>QD</th>        <td>   -0.0463</td> <td>    0.002</td> <td>  -28.104</td> <td> 0.000</td> <td>   -0.050</td> <td>   -0.043</td>\n",
       "</tr>\n",
       "</table>"
      ],
      "text/plain": [
       "<class 'statsmodels.iolib.summary.Summary'>\n",
       "\"\"\"\n",
       "                 Generalized Linear Model Regression Results                  \n",
       "==============================================================================\n",
       "Dep. Variable:                UNMATCH   No. Observations:               297642\n",
       "Model:                            GLM   Df Residuals:                   297633\n",
       "Model Family:                Binomial   Df Model:                            8\n",
       "Link Function:                  logit   Scale:                          1.0000\n",
       "Method:                          IRLS   Log-Likelihood:                -48759.\n",
       "Date:                Fri, 02 Oct 2020   Deviance:                       97517.\n",
       "Time:                        11:13:39   Pearson chi2:                 2.90e+05\n",
       "No. Iterations:                     7                                         \n",
       "Covariance Type:            nonrobust                                         \n",
       "==============================================================================\n",
       "                 coef    std err          z      P>|z|      [0.025      0.975]\n",
       "------------------------------------------------------------------------------\n",
       "Intercept     12.4685      0.259     48.137      0.000      11.961      12.976\n",
       "TYPE[T.1]      1.2458      0.022     56.324      0.000       1.202       1.289\n",
       "DP             0.0024      0.001      2.258      0.024       0.000       0.004\n",
       "GQ            -0.0206      0.000    -50.653      0.000      -0.021      -0.020\n",
       "QUAL        8.519e-05   3.83e-05      2.226      0.026    1.02e-05       0.000\n",
       "FS             0.0154      0.003      5.024      0.000       0.009       0.021\n",
       "AF            -0.0125      0.037     -0.338      0.735      -0.085       0.060\n",
       "MQ            -0.2239      0.004    -52.006      0.000      -0.232      -0.215\n",
       "QD            -0.0463      0.002    -28.104      0.000      -0.050      -0.043\n",
       "==============================================================================\n",
       "\"\"\""
      ]
     },
     "execution_count": 30,
     "metadata": {},
     "output_type": "execute_result"
    }
   ],
   "source": [
    "\n",
    "res2 = sm.formula.glm(formula=this_formula, family=sm.families.Binomial(), data=df_MAF).fit() \n",
    "res2.summary()"
   ]
  },
  {
   "cell_type": "code",
   "execution_count": 31,
   "metadata": {},
   "outputs": [
    {
     "name": "stdout",
     "output_type": "stream",
     "text": [
      "Coefficeients\n",
      "Intercept    12.468461\n",
      "TYPE[T.1]     1.245848\n",
      "DP            0.002372\n",
      "GQ           -0.020617\n",
      "QUAL          0.000085\n",
      "FS            0.015415\n",
      "AF           -0.012540\n",
      "MQ           -0.223882\n",
      "QD           -0.046327\n",
      "dtype: float64\n",
      "\n",
      "p-Values\n",
      "Intercept     0.000000e+00\n",
      "TYPE[T.1]     0.000000e+00\n",
      "DP            2.395434e-02\n",
      "GQ            0.000000e+00\n",
      "QUAL          2.599788e-02\n",
      "FS            5.056474e-07\n",
      "AF            7.352164e-01\n",
      "MQ            0.000000e+00\n",
      "QD           8.727729e-174\n",
      "dtype: float64\n",
      "\n",
      "Dependent variables\n",
      "UNMATCH\n"
     ]
    }
   ],
   "source": [
    "print(\"Coefficeients\")\n",
    "print(res2.params)\n",
    "print()\n",
    "print(\"p-Values\")\n",
    "print(res2.pvalues)\n",
    "print()\n",
    "print(\"Dependent variables\")\n",
    "print(res2.model.endog_names)"
   ]
  },
  {
   "cell_type": "code",
   "execution_count": null,
   "metadata": {},
   "outputs": [],
   "source": []
  }
 ],
 "metadata": {
  "kernelspec": {
   "display_name": "genomics",
   "language": "python",
   "name": "genomics"
  },
  "language_info": {
   "codemirror_mode": {
    "name": "ipython",
    "version": 3
   },
   "file_extension": ".py",
   "mimetype": "text/x-python",
   "name": "python",
   "nbconvert_exporter": "python",
   "pygments_lexer": "ipython3",
   "version": "3.7.9"
  }
 },
 "nbformat": 4,
 "nbformat_minor": 2
}
