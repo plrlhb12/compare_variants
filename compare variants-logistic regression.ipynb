{
 "cells": [
  {
   "cell_type": "code",
   "execution_count": 1,
   "metadata": {},
   "outputs": [
    {
     "name": "stdout",
     "output_type": "stream",
     "text": [
      "['Solarize_Light2', '_classic_test_patch', 'bmh', 'classic', 'dark_background', 'fast', 'fivethirtyeight', 'ggplot', 'grayscale', 'seaborn', 'seaborn-bright', 'seaborn-colorblind', 'seaborn-dark', 'seaborn-dark-palette', 'seaborn-darkgrid', 'seaborn-deep', 'seaborn-muted', 'seaborn-notebook', 'seaborn-paper', 'seaborn-pastel', 'seaborn-poster', 'seaborn-talk', 'seaborn-ticks', 'seaborn-white', 'seaborn-whitegrid', 'tableau-colorblind10']\n"
     ]
    }
   ],
   "source": [
    "import pandas as pd\n",
    "import numpy as np\n",
    "import seaborn as sns\n",
    "import matplotlib.pyplot as plt\n",
    "import matplotlib as mpl\n",
    "\n",
    "%matplotlib inline\n",
    "#mpl.rcParams.update(mpl.rcParamsDefault)\n",
    "%config InlineBackend.figure_format = 'retina'\n",
    "\n",
    "#plt.style.use(\"seaborn-white\")\n",
    "print(plt.style.available)\n",
    "\n",
    "#import matplotlib as mpl\n",
    "#mpl.rcParams['figure.dpi'] = 80\n",
    "#mpl.rcParams['figure.dpi'] = 300"
   ]
  },
  {
   "cell_type": "code",
   "execution_count": 2,
   "metadata": {},
   "outputs": [],
   "source": [
    "pd.set_option('display.max_columns', None)\n",
    "pd.set_option('display.max_rows', None)\n",
    "# pd.options.display.max_columns = None\n",
    "# pd.options.display.max_rows = None"
   ]
  },
  {
   "cell_type": "code",
   "execution_count": null,
   "metadata": {},
   "outputs": [],
   "source": [
    "!pwd"
   ]
  },
  {
   "cell_type": "code",
   "execution_count": 8,
   "metadata": {},
   "outputs": [
    {
     "name": "stdout",
     "output_type": "stream",
     "text": [
      "total 3527344\r\n",
      "-rw-r--r--   1 pengl7  NIH\\Domain Users   300K Sep 15 11:56 venn_diagram_after_fliter_2.ipynb\r\n",
      "-rw-r--r--@  1 pengl7  NIH\\Domain Users   162B Sep 15 11:29 ~$ader of the long read sequence vcf file from 10X Genomics.docx\r\n",
      "-rw-r--r--@  1 pengl7  NIH\\Domain Users    16K Sep 15 11:29 header of the long read sequence vcf file from 10X Genomics.docx\r\n",
      "-rw-r--r--   1 pengl7  NIH\\Domain Users    13K Sep 15 10:58 compare variants-logistic regression.ipynb\r\n",
      "-rw-r-----   1 pengl7  NIH\\Domain Users   115M Sep 15 09:38 UNHS_GT19-38445_bcfc1_2.annotated_qual30_pass.chr1.vcf\r\n",
      "-rw-r-----   1 pengl7  NIH\\Domain Users   110M Sep 15 09:37 Jax_KOLF2-ARID2-A2_bcfc1_2.annotated_qual30_pass.chr1.vcf\r\n",
      "-rw-r-----   1 pengl7  NIH\\Domain Users   268M Sep 14 21:25 long_psomagen_KOLF2.1_variants.annotated_qual30_pass.chr1.vcf\r\n",
      "-rw-r-----   1 pengl7  NIH\\Domain Users   301M Sep 14 21:24 long_Jax_KOLF2C1_variants.annotated_qual30_pass.chr1.vcf\r\n",
      "-rw-r--r--@  1 pengl7  NIH\\Domain Users   1.4M Sep 10 13:00 check variants and genotype.pptx\r\n",
      "-rw-r--r--@  1 pengl7  NIH\\Domain Users   229K Sep 10 11:54 check variants from different platforms.pptx\r\n",
      "-rw-r--r--   1 pengl7  NIH\\Domain Users   317K Sep 10 11:01 venn_diagram_after_fliter.ipynb\r\n",
      "-rw-r--r--   1 pengl7  NIH\\Domain Users    14K Sep 10 10:58 KOLF2.1_Jax_short_psomagen_long_filter.png\r\n",
      "-rw-r--r--@  1 pengl7  NIH\\Domain Users    14K Sep 10 10:58 KOLF2.1_Jax_short_psomagen_long_filter.pdf\r\n",
      "-rw-r--r--   1 pengl7  NIH\\Domain Users    15K Sep 10 10:51 Psomagen_KOLF2.1_filter.png\r\n",
      "-rw-r--r--@  1 pengl7  NIH\\Domain Users    14K Sep 10 10:51 Psomagen_KOLF2.1_filter.pdf\r\n",
      "-rw-r--r--   1 pengl7  NIH\\Domain Users    16K Sep 10 10:14 KOLF2.1_vs_C1_filter.png\r\n",
      "-rw-r--r--@  1 pengl7  NIH\\Domain Users    14K Sep 10 10:14 KOLF2.1_vs_C1_filter.pdf\r\n",
      "-rw-r--r--   1 pengl7  NIH\\Domain Users    22K Sep 10 10:12 3_kolf2.1_filter.png\r\n",
      "-rw-r--r--   1 pengl7  NIH\\Domain Users    14K Sep 10 10:12 3_kolf2.1_filter.pdf\r\n",
      "-rw-r--r--   1 pengl7  NIH\\Domain Users    23K Sep 10 09:55 compare variants-caluclate qual.ipynb\r\n",
      "drwxr-xr-x  19 pengl7  NIH\\Domain Users   608B Sep  7 23:45 \u001b[34mmetrics\u001b[m\u001b[m/\r\n",
      "drwxr-xr-x  29 pengl7  NIH\\Domain Users   928B Sep  7 23:24 \u001b[34moutput_figs\u001b[m\u001b[m/\r\n",
      "-rw-r--r--   1 pengl7  NIH\\Domain Users   453K Sep  4 17:23 compare_variants_venn_diagram.ipynb\r\n",
      "-rw-r-----   1 pengl7  NIH\\Domain Users    80M Sep  4 17:15 long_psomagen_KOLF2.1_variants_filt30_merge.vcf\r\n",
      "-rw-r-----   1 pengl7  NIH\\Domain Users    80M Sep  4 17:14 long_Jax_KOLF2C1_variants_filt30_merge.vcf\r\n",
      "-rw-r-----   1 pengl7  NIH\\Domain Users    95M Sep  4 17:02 long_Jax_KOLF2C1_variants_filt30.vcf\r\n",
      "-rw-r-----   1 pengl7  NIH\\Domain Users    94M Sep  4 17:00 long_psomagen_KOLF2.1_variants_filt30.vcf\r\n",
      "-rw-r--r--@  1 pengl7  NIH\\Domain Users   4.1K Sep  4 14:04 subset_annot_calc_variant_types.html\r\n",
      "-rw-r--r--   1 pengl7  NIH\\Domain Users    12K Sep  4 12:08 compare-variants.ipynb\r\n",
      "-rw-r--r--@  1 pengl7  NIH\\Domain Users   6.4K Sep  4 10:07 30Aug2020-diff-vcf.txt\r\n",
      "-rw-r--r--   1 pengl7  NIH\\Domain Users    25K Sep  1 16:13 calculate karyotype resutls.ipynb\r\n",
      "-rw-r-----   1 pengl7  NIH\\Domain Users    36M Sep  1 15:00 Jax_KOLF2-ARID2-A2_bcfc1_qaul\r\n",
      "-rw-r-----   1 pengl7  NIH\\Domain Users    34M Sep  1 14:59 UNHS_GT19-38445_bcfc1_qaul\r\n",
      "-rw-r-----   1 pengl7  NIH\\Domain Users    38M Sep  1 14:48 long_psomagen_KOLF2.1_variants_qual\r\n",
      "-rw-r-----   1 pengl7  NIH\\Domain Users    37M Sep  1 14:48 long_Jax_KOLF2C1_variants_qual\r\n",
      "-rw-r--r--@  1 pengl7  NIH\\Domain Users    93K Aug 31 14:15 How_to_Venn.ipynb\r\n",
      "-rw-r-----   1 pengl7  NIH\\Domain Users    91M Aug 31 11:07 long_Jax_KOLF2C1_variants_cut_merage.vcf\r\n",
      "-rw-r-----   1 pengl7  NIH\\Domain Users    93M Aug 31 11:07 long_psomagen_KOLF2.1_variants_cut_merage.vcf\r\n",
      "-rw-r-----   1 pengl7  NIH\\Domain Users    81M Aug 31 11:06 UNHS_GT19-38445_bcfc1_cut_merage.vcf\r\n",
      "-rw-r-----   1 pengl7  NIH\\Domain Users    84M Aug 31 11:05 Jax_KOLF2-ARID2-A2_bcfc1_cut_merage.vcf\r\n"
     ]
    }
   ],
   "source": [
    "%ls -lth"
   ]
  },
  {
   "cell_type": "code",
   "execution_count": 3,
   "metadata": {
    "scrolled": true
   },
   "outputs": [
    {
     "data": {
      "text/html": [
       "<div>\n",
       "<style scoped>\n",
       "    .dataframe tbody tr th:only-of-type {\n",
       "        vertical-align: middle;\n",
       "    }\n",
       "\n",
       "    .dataframe tbody tr th {\n",
       "        vertical-align: top;\n",
       "    }\n",
       "\n",
       "    .dataframe thead th {\n",
       "        text-align: right;\n",
       "    }\n",
       "</style>\n",
       "<table border=\"1\" class=\"dataframe\">\n",
       "  <thead>\n",
       "    <tr style=\"text-align: right;\">\n",
       "      <th></th>\n",
       "      <th>0</th>\n",
       "      <th>1</th>\n",
       "      <th>2</th>\n",
       "      <th>3</th>\n",
       "      <th>4</th>\n",
       "      <th>5</th>\n",
       "      <th>6</th>\n",
       "      <th>7</th>\n",
       "      <th>8</th>\n",
       "      <th>9</th>\n",
       "    </tr>\n",
       "  </thead>\n",
       "  <tbody>\n",
       "    <tr>\n",
       "      <th>0</th>\n",
       "      <td>chr1</td>\n",
       "      <td>11565</td>\n",
       "      <td>chr1_11565_G_T</td>\n",
       "      <td>G</td>\n",
       "      <td>T</td>\n",
       "      <td>46.77</td>\n",
       "      <td>PASS</td>\n",
       "      <td>AC=1;AF=0.5;AN=2;BaseQRankSum=0.524;ClippingRa...</td>\n",
       "      <td>GT:AD:DP:GQ:PL:BX:PS:PQ:JQ</td>\n",
       "      <td>0/1:3,2:5:75:75,0,118:GCAGTTAAGCTAAGTA-1_70;AG...</td>\n",
       "    </tr>\n",
       "    <tr>\n",
       "      <th>1</th>\n",
       "      <td>chr1</td>\n",
       "      <td>11922</td>\n",
       "      <td>chr1_11922_T_A</td>\n",
       "      <td>T</td>\n",
       "      <td>A</td>\n",
       "      <td>35.77</td>\n",
       "      <td>PASS</td>\n",
       "      <td>AC=1;AF=0.5;AN=2;BaseQRankSum=-0.967;ClippingR...</td>\n",
       "      <td>GT:AD:DP:GQ:PL:BX:PS:PQ:JQ</td>\n",
       "      <td>1|0:4,2:6:64:64,0,160:GAATGAAAGATGGTAT-1_74;AT...</td>\n",
       "    </tr>\n",
       "  </tbody>\n",
       "</table>\n",
       "</div>"
      ],
      "text/plain": [
       "      0      1               2  3  4      5     6  \\\n",
       "0  chr1  11565  chr1_11565_G_T  G  T  46.77  PASS   \n",
       "1  chr1  11922  chr1_11922_T_A  T  A  35.77  PASS   \n",
       "\n",
       "                                                   7  \\\n",
       "0  AC=1;AF=0.5;AN=2;BaseQRankSum=0.524;ClippingRa...   \n",
       "1  AC=1;AF=0.5;AN=2;BaseQRankSum=-0.967;ClippingR...   \n",
       "\n",
       "                            8  \\\n",
       "0  GT:AD:DP:GQ:PL:BX:PS:PQ:JQ   \n",
       "1  GT:AD:DP:GQ:PL:BX:PS:PQ:JQ   \n",
       "\n",
       "                                                   9  \n",
       "0  0/1:3,2:5:75:75,0,118:GCAGTTAAGCTAAGTA-1_70;AG...  \n",
       "1  1|0:4,2:6:64:64,0,160:GAATGAAAGATGGTAT-1_74;AT...  "
      ]
     },
     "execution_count": 3,
     "metadata": {},
     "output_type": "execute_result"
    }
   ],
   "source": [
    "long_jax = pd.read_csv(\"long_Jax_KOLF2C1_variants.annotated_qual30_pass.chr1.vcf\", sep=\"\\t\", header=None)\n",
    "long_jax.head(2)"
   ]
  },
  {
   "cell_type": "code",
   "execution_count": 7,
   "metadata": {},
   "outputs": [
    {
     "data": {
      "text/plain": [
       "(349172, 10)"
      ]
     },
     "execution_count": 7,
     "metadata": {},
     "output_type": "execute_result"
    }
   ],
   "source": [
    "long_jax.shape"
   ]
  },
  {
   "cell_type": "code",
   "execution_count": 6,
   "metadata": {},
   "outputs": [
    {
     "data": {
      "text/plain": [
       "0         AC=1;AF=0.5;AN=2;BaseQRankSum=0.524;ClippingRankSum=0;DP=5;ExcessHet=3.0103;FS=3.979;MLEAC=1;MLEAF=0.5;MQ=51.83;MQRankSum=-0.126;QD=9.35;ReadPosRankSum=0.524;SOR=2.245;MUMAP_REF=17;MUMAP_ALT=39.6667;AO=2;RO=3;MMD=2.35395;RESCUED=0;NOT_RESCUED=13;HAPLOCALLED=0\n",
       "1    AC=1;AF=0.5;AN=2;BaseQRankSum=-0.967;ClippingRankSum=0;DP=6;ExcessHet=3.0103;FS=4.771;MLEAC=1;MLEAF=0.5;MQ=46.29;MQRankSum=1.282;QD=5.96;ReadPosRankSum=0.967;SOR=0.039;MUMAP_REF=11.1538;MUMAP_ALT=15.1429;AO=2;RO=7;MMD=1.37032;RESCUED=2;NOT_RESCUED=31;HAPLOCALLED=0\n",
       "2      AC=2;AF=0.5;AN=2;BaseQRankSum=-0.674;ClippingRankSum=0;DP=7;ExcessHet=3.0103;FS=0;MLEAC=1;MLEAF=0.5;MQ=49.73;MQRankSum=1.383;QD=20.09;ReadPosRankSum=-0.674;SOR=0.368;MUMAP_REF=5.61538;MUMAP_ALT=17.3182;AO=5;RO=2;MMD=1.55932;RESCUED=0;NOT_RESCUED=48;HAPLOCALLED=0\n",
       "3          AC=1;AF=0.5;AN=2;BaseQRankSum=-3.087;ClippingRankSum=0;DP=12;ExcessHet=3.0103;FS=0;MLEAC=1;MLEAF=0.5;MQ=49.54;MQRankSum=0.349;QD=2.9;ReadPosRankSum=-0.129;SOR=0.368;MUMAP_REF=14.4524;MUMAP_ALT=15.7143;AO=2;RO=7;MMD=1.75;RESCUED=0;NOT_RESCUED=49;HAPLOCALLED=0\n",
       "4           AC=1;AF=0.5;AN=2;BaseQRankSum=-1.068;ClippingRankSum=0;DP=7;ExcessHet=3.0103;FS=0;MLEAC=1;MLEAF=0.5;MQ=43.82;MQRankSum=-1.465;QD=5.82;ReadPosRankSum=0.366;SOR=0.446;MUMAP_REF=11.7812;MUMAP_ALT=29.75;AO=2;RO=6;MMD=2.825;RESCUED=1;NOT_RESCUED=35;HAPLOCALLED=0\n",
       "5                   AC=1;AF=0.5;AN=2;BaseQRankSum=0;ClippingRankSum=0;DP=6;ExcessHet=3.0103;FS=0;MLEAC=1;MLEAF=0.5;MQ=37.59;MQRankSum=-1.44;QD=8.96;ReadPosRankSum=1.15;SOR=0.132;MUMAP_REF=17;MUMAP_ALT=32.6667;AO=3;RO=3;MMD=2.00747;RESCUED=1;NOT_RESCUED=17;HAPLOCALLED=0\n",
       "6                                                                                          AC=2;AF=1;AN=2;DP=3;ExcessHet=3.0103;FS=0;MLEAC=2;MLEAF=1;MQ=37.47;QD=28.76;SOR=1.179;MUMAP_REF=15.75;MUMAP_ALT=21.75;AO=2;RO=0;MMD=1.29902;RESCUED=1;NOT_RESCUED=11;HAPLOCALLED=0\n",
       "7                AC=1;AF=0.5;AN=2;BaseQRankSum=0.366;ClippingRankSum=0;DP=8;ExcessHet=3.0103;FS=0;MLEAC=1;MLEAF=0.5;MQ=54.14;MQRankSum=1.068;QD=15.6;ReadPosRankSum=0;SOR=0.693;MUMAP_REF=9.48276;MUMAP_ALT=47.8;AO=4;RO=3;MMD=1.26675;RESCUED=0;NOT_RESCUED=34;HAPLOCALLED=0\n",
       "8     AC=1;AF=0.5;AN=2;BaseQRankSum=0.174;ClippingRankSum=0;DP=13;ExcessHet=3.0103;FS=6.64;MLEAC=1;MLEAF=0.5;MQ=39.85;MQRankSum=0.687;QD=7.14;ReadPosRankSum=0.097;SOR=1.421;MUMAP_REF=20.5556;MUMAP_ALT=16.4118;AO=4;RO=5;MMD=1.89262;RESCUED=2;NOT_RESCUED=33;HAPLOCALLED=0\n",
       "9                             AC=2;AF=1;AN=2;DP=3;ExcessHet=3.0103;FS=0;MLEAC=2;MLEAF=1;MQ=41.72;QD=23.42;SOR=1.179;POSTHPC=1;POSTHPB=C;MUMAP_REF=31;MUMAP_ALT=23.3333;AO=2;RO=0;MMD=1.86512;RESCUED=0;NOT_RESCUED=6;POSTDNB=CA;POSTDNC=1;POSTTNB=CAG;POSTTNC=1;HAPLOCALLED=0\n",
       "Name: 7, dtype: object"
      ]
     },
     "execution_count": 6,
     "metadata": {},
     "output_type": "execute_result"
    }
   ],
   "source": [
    "pd.set_option('display.max_colwidth', None)\n",
    "long_jax.iloc[:, 7][:10]"
   ]
  },
  {
   "cell_type": "code",
   "execution_count": null,
   "metadata": {},
   "outputs": [],
   "source": [
    "long_jax_sub = long_jax.iloc[:, [2,5,7]]\n",
    "long_jax_sub.columns = [\"varaint_ID\", \"Qual\", \"INFO\"]\n",
    "long_jax_sub.head()"
   ]
  },
  {
   "cell_type": "code",
   "execution_count": null,
   "metadata": {},
   "outputs": [],
   "source": [
    "# this method doesn't work well since there are too many ; inside the column of INFP\n",
    "# long_jax[\"AC\"], long_jax[\"AF\"], long_jax[\"BaseQRankSum\"], long_jax[\"ClippingR\"] = long_jax_sub[\"INFO\"].str.split(\";\")[:5]"
   ]
  },
  {
   "cell_type": "code",
   "execution_count": null,
   "metadata": {},
   "outputs": [],
   "source": [
    "df_info = pd.DataFrame(long_jax_sub[\"INFO\"].str.split(\";\"))"
   ]
  },
  {
   "cell_type": "code",
   "execution_count": null,
   "metadata": {},
   "outputs": [],
   "source": [
    "df_info.head()"
   ]
  },
  {
   "cell_type": "code",
   "execution_count": null,
   "metadata": {},
   "outputs": [],
   "source": [
    "type(info)"
   ]
  },
  {
   "cell_type": "code",
   "execution_count": null,
   "metadata": {},
   "outputs": [],
   "source": [
    "info[:5]"
   ]
  },
  {
   "cell_type": "code",
   "execution_count": null,
   "metadata": {},
   "outputs": [],
   "source": [
    "long_jax.describe()"
   ]
  },
  {
   "cell_type": "code",
   "execution_count": null,
   "metadata": {},
   "outputs": [],
   "source": [
    "len(long_jax)"
   ]
  },
  {
   "cell_type": "code",
   "execution_count": null,
   "metadata": {},
   "outputs": [],
   "source": [
    "long_pso = pd.read_csv(\"long_psomagen_KOLF2.1_variants.annotated_qual30_pass.chr1.vcf\", sep=\"\\t\", header=None)\n",
    "long_pso.columns = [\"A\"]\n",
    "long_pso.head()"
   ]
  },
  {
   "cell_type": "code",
   "execution_count": null,
   "metadata": {},
   "outputs": [],
   "source": [
    "ls20 = long_jax[long_jax[\"A\"] < 20]\n",
    "print('total variants are: ', len(long_pso))\n",
    "print('varints less than QUAL 20 are: ', len(long_jax[long_jax[\"A\"] < 20]))\n",
    "print('varints less than QUAL 30 are: ', len(long_jax[long_jax[\"A\"] < 30]))"
   ]
  },
  {
   "cell_type": "code",
   "execution_count": null,
   "metadata": {},
   "outputs": [],
   "source": [
    "long_pso.describe()"
   ]
  },
  {
   "cell_type": "code",
   "execution_count": null,
   "metadata": {},
   "outputs": [],
   "source": [
    "print('total variants are: ', len(long_pso))\n",
    "print('varints less than QUAL 20 are: ', len(long_pso[long_pso[\"A\"] <= 20]))\n",
    "print('varints less than QUAL 30 are: ', len(long_pso[long_pso[\"A\"] <= 30]))"
   ]
  },
  {
   "cell_type": "code",
   "execution_count": null,
   "metadata": {},
   "outputs": [],
   "source": [
    "short_jax = pd.read_csv(\"Jax_KOLF2-ARID2-A2_bcfc1_qaul\", sep=\"\\t\", header=None)\n",
    "short_jax.columns = [\"A\"]\n",
    "short_jax.head()"
   ]
  },
  {
   "cell_type": "code",
   "execution_count": null,
   "metadata": {},
   "outputs": [],
   "source": [
    "short_jax.describe()"
   ]
  },
  {
   "cell_type": "code",
   "execution_count": null,
   "metadata": {},
   "outputs": [],
   "source": [
    "print('total variants are: ', len(short_jax))\n",
    "print('varints less than QUAL 20 are: ', len(short_jax[short_jax[\"A\"] <= 30]))"
   ]
  },
  {
   "cell_type": "code",
   "execution_count": null,
   "metadata": {},
   "outputs": [],
   "source": [
    "short_pso = pd.read_csv(\"UNHS_GT19-38445_bcfc1_qaul\", sep=\"\\t\", header=None)\n",
    "short_pso.columns = [\"A\"]\n",
    "short_pso.head()"
   ]
  },
  {
   "cell_type": "code",
   "execution_count": null,
   "metadata": {},
   "outputs": [],
   "source": [
    "short_pso.describe()"
   ]
  },
  {
   "cell_type": "code",
   "execution_count": null,
   "metadata": {},
   "outputs": [],
   "source": [
    "print('total variants are: ', len(short_pso))\n",
    "print('varints less than QUAL 20 are: ', len(short_pso[short_pso[\"A\"] <= 30]))"
   ]
  },
  {
   "cell_type": "code",
   "execution_count": null,
   "metadata": {},
   "outputs": [],
   "source": []
  }
 ],
 "metadata": {
  "kernelspec": {
   "display_name": "genomics",
   "language": "python",
   "name": "genomics"
  },
  "language_info": {
   "codemirror_mode": {
    "name": "ipython",
    "version": 3
   },
   "file_extension": ".py",
   "mimetype": "text/x-python",
   "name": "python",
   "nbconvert_exporter": "python",
   "pygments_lexer": "ipython3",
   "version": "3.7.7"
  }
 },
 "nbformat": 4,
 "nbformat_minor": 4
}
