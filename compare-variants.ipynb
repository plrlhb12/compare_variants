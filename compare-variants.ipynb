<h1 id="aug-30th-2020">Aug 30th, 2020</h1>
<p id="test-codes-on-partial-of-data">Test codes on partial of data</p>
<h1 id="use-bcftools-view-to-extract-the-regions-of-chr7-to-take-a-quick-test-on-vcf-files">Use bcftools view to extract the regions of chr7 to take a quick test on vcf files</h1>
<h1 id="the-output-files-are-in-datacardtprojectsdatatemplong">the output files are in /data/CARD/tprojects/data/temp/long/</h1>
<p>use bcftools view: however, the filee need to already indexed</p>
<p><code>bcftools index long_Jax_KOLF2C1_variants.vcf.gz</code></p>
<p>The file becomes unzipped although can named as .gz (unless using -O z: double check)</p>
<p><code>bcftools view long_Jax_KOLF2C1_variants.vcf.gz --regions chr7 | grep -v '^#' &gt; long_Jax_chr7.vcf</code></p>
<p>Since they are two many info in the INFO, diff found none is common, so cut the field 1-5</p>
<p><code>cut -f1-6 long_Jax_chr7.vcf &gt; long_Jax_chr7_cut.vcf</code></p>
<p>only extract the position as column of interest</p>
<p><code>cut -f2 long_Jax_chr7_cut.vcf &gt; long_Jax_chr7_cut_2.vcf</code></p>
<h2 id="then-compare-the-commonatlity-or-difference-between-2-vcf-files">then compare the commonatlity or difference between 2 vcf files</h2>
<ul>
<li>no matter using diff or comm, ensure files were sorted</li>
<li>the original vcf was already in a clever sort sequence (e.g, chr11 is after chr2), howevere, comm command didn’t recognize this -V sort, it require the default sort format (e.g., chr11 is before chr2)</li>
<li><code>sort -C file || echo &quot;not sorted&quot;; &quot;sorted&quot;</code> show my vcf files didn’t in the default sorting sequence. so have to resort using default, resulting in 1000 less than 120.</li>
<li>diff command doesn’t have this issue</li>
</ul>
<p><code>sort long_Jax_chr7_cut_2.vcf &gt; long_Jax_chr7_cut_2_sorted.vcf</code></p>
<h3 id="use-comm-file-1-file2-output">Use <code>comm file 1 file2 &gt; output</code></h3>
<p>-12 means inhibit the ouptput of uniq of file 1 (column 1) and file 2 (column 2), so leaving only the common (column 3) in the output <code>comm -12 long_psomagen_chr7_cut_2_sorted.vcf long_Jax_chr7_cut_2_sorted.vcf &gt; long_common_cut2</code></p>
<hr />
<p>Temperate records of my operation, can be deleted</p>
<p>wc -l long_common (the compare file only has the position column) 257691</p>
<p>comm -12 long_psomagen_chr7_cut_sort.vcf long_Jax_chr7_cut_sort.vcf &gt; long_common_cut1 wc -l long_common_cut1 (the compare file has 5 columns) 253690</p>
<p>comm -23 long_psomagen_chr7_cut_sort.vcf long_Jax_chr7_cut_sort.vcf &gt; long_psomagen_uniq</p>
<p>wc -l long_psomagen_uniq (total 325706, 21% unmatch) 72016 (about</p>
<p>comm -13 long_psomagen_chr7_cut_sort.vcf long_Jax_chr7_cut_sort.vcf &gt; long_Jax_uniq</p>
<p>wc -l long_Jax_uniq 66071</p>
<p>5,670,040 long_Jax_KOLF2C1_variants.vcf</p>
<p>[pengl7@cn0896 long]$ wc -l long_psomagen_KOLF2.1_variants.vcf 5,779,035 long_psomagen_KOLF2.1_variants.vcf</p>
<p>[pengl7@cn0896 long]$ head -n 5 long_common 100000052 10000122 10000156 100002782 100002980 _________________________________________________</p>
<h3 id="use-diff-method-to-confirm">use diff method to confirm</h3>
<p><code>diff --side-by-side long_psomagen_chr7_cut_2_sorted.vcf long_Jax_chr7_cut_2_sorted.vcf | grep -n -v &quot;[|&lt;&gt;]&quot; &gt; long_common2</code></p>
<p>257691 long_common2</p>
<p id="work-on-the-whole-genome-temporary-records-and-can-be-deleted">Work on the whole genome, temporary records and can be deleted</p>
<h2 id="check-the-whole-genome-by-manually-checking"># check the whole genome by manually checking</h2>
<ol type="1">
<li>Check the long reads</li>
</ol>
<pre><code>cut -f1-5 long_psomagen_KOLF2.1_variants.vcf | grep -v &quot;^#&quot; &gt; psomagen_cut.vcf
sort psomagen_cut.vcf &gt; psomagen_sort.vcf`

cut -f1-5 long_Jax_KOLF2C1_variants.vcf | grep -v &quot;^#&quot; &gt; jax_cut.vcf
sort jax_cut.vcf &gt; jax_sort.vcf

comm -12 psomagen_sort.vcf jax_sort.vcf &gt; whole_common 
wc -l whole_common</code></pre>
<p>4503428 whole_common</p>
<pre><code>comm -23 psomagen_sort.vcf jax_sort.vcf &gt; whole_psomagen_uniq
wc -l whole_psomagen_uniq

1275343 whole_psomagen_uniq   (total 5778771; 22.1%)

comm -13 psomagen_sort.vcf jax_sort.vcf &gt; whole_jax_uniq
wc -l whole_jax_uniq    (total 5669776; 20.57%)

1166348 whole_jax_uniq 
</code></pre>
<table style="width:50%;">
<colgroup>
<col style="width: 50%" />
</colgroup>
<tbody>
<tr class="odd">
<td style="text-align: left;">2. check the short read</td>
</tr>
<tr class="even">
<td style="text-align: left;">``` cut -f1-5 UNHS_GT19-38445_bcfc1.vcf | grep -v “^#” &gt; UNHS_cut.vcf sort UNHS_cut.vcf &gt; UNHS_sort.vcf</td>
</tr>
<tr class="odd">
<td style="text-align: left;">cut -f1-5 Jax_KOLF2-ARID2-A2_bcfc1.vcf | grep -v “^#” &gt; jax_cut.vcf sort jax_cut.vcf &gt; jax_sort.vcf</td>
</tr>
<tr class="even">
<td style="text-align: left;">comm -12 UNHS_sort.vcf jax_sort.vcf &gt; whole_common wc -l whole_common</td>
</tr>
<tr class="odd">
<td style="text-align: left;">```</td>
</tr>
<tr class="even">
<td style="text-align: left;">4273509 whole_common</td>
</tr>
<tr class="odd">
<td style="text-align: left;">``` comm -23 UNHS_sort.vcf jax_sort.vcf &gt; whole_UNHS_uniq</td>
</tr>
<tr class="even">
<td style="text-align: left;">wc -l whole_UNHS_uniq</td>
</tr>
<tr class="odd">
<td style="text-align: left;">```</td>
</tr>
<tr class="even">
<td style="text-align: left;">441675 whole_UNHS_uniq</td>
</tr>
<tr class="odd">
<td style="text-align: left;">(total 4715184; 9.367%)</td>
</tr>
<tr class="even">
<td style="text-align: left;"><code>comm -13 UNHS_sort.vcf jax_sort.vcf &gt; whole_jax_uniq wc -l whole_jax_uniq</code></td>
</tr>
<tr class="odd">
<td style="text-align: left;">747316 whole_jax_uniq (total 5020825; 14.88%)</td>
</tr>
</tbody>
</table>
<ol start="3" type="1">
<li>compare long ranger KOL2.1 to short read</li>
</ol>
<p>cp ../long/psomagen_sort.vcf psomagen_sort.vcf $ cut -f1,2,4,5 psomagen_sort.vcf &gt; psomagen_sort_cut2.vcf</p>
<p>cut -f1,2,4,5 jax_sort.vcf &gt; jax_sort_cut2.vcf</p>
<p>cut -f1,2,4,5 UNHS_sort.vcf &gt; UNHS_sort_cut2.vcf</p>
<h4 id="have-to-sort-again-after-cut-given-the-error-message-of-unsorted">have to sort again after cut given the error message of unsorted</h4>
<p>sort UNHS_sort_cut2.vcf &gt; UNHS_sort_cut2_sort.vcf comm -12 UNHS_sort_cut2_sort.vcf psomagen_sort_cut2.vcf &gt; common_2_psomagen wc -l common_2_psomagen</p>
<p>4000827 (overlap 84.9% for short; 69.23 for long read)</p>
<p>comm -23 UNHS_sort_cut2_sort.vcf psomagen_sort_cut2.vcf &gt; short_uniq wc -l short_uniq 714357 (total 4715184</p>
<p>comm -13 UNHS_sort_cut2_sort.vcf psomagen_sort_cut2.vcf &gt; long_uniq wc -l long_uniq</p>
<p>1777944 ( total 5778771: 30.77% unmatchable)</p>
<hr />
<p id="using-resuable-and-rerunnable-shell-script">Using resuable and rerunnable shell script</p>
<h1 id="sept-1nd-2020-two-files-comparison">Sept 1nd, 2020: two files comparison</h1>
<p>Run 1: the template is com_diff_1.sh, remove header, cut, sort, and compare. 1. start from vcf with header 2. provide file prefix, fields, and output path. use FIELD=‘1,2,4,5’ to skip the QUAL column</p>
<hr />
<p><code>mkdir short-short-compare</code> <code>bash new_com_diff.sh UNHS_GT19-38445_bcfc1 Jax_KOLF2-ARID2-A2_bcfc1 '1,2,4,5' short-short-compare</code></p>
<p>the counts of common is 4273509 common the counts of UNHS_GT19-38445_bcfc1_uniq is 441675 UNHS_GT19-38445_bcfc1_uniq the counts of Jax_KOLF2-ARID2-A2_bcfc1_uniq is 747316 Jax_KOLF2-ARID2-A2_bcfc1_uniq</p>
<hr />
<p><code>mkdir short-long-kolf2c1-compare</code> <code>bash new_com_diff.sh UNHS_GT19-38445_bcfc1 long_psomagen_KOLF2.1_variants '1,2,4,5' short-long-kolf2c1-compare</code></p>
<p>the counts of common is 4000827 common the counts of UNHS_GT19-38445_bcfc1_uniq is 714357 UNHS_GT19-38445_bcfc1_uniq the counts of long_psomagen_KOLF2.1_variants_uniq is 1777944 long_psomagen_KOLF2.1_variants_uniq</p>
<hr />
<p><code>mkdir short.2.1-long.2c1-compare</code> <code>bash new_com_diff.sh UNHS_GT19-38445_bcfc1 long_Jax_KOLF2C1_variants '1,2,4,5' short.2.1-long.2c1-compare</code></p>
<p>the counts of common is 4071217 common the counts of UNHS_GT19-38445_bcfc1_uniq is 643967 UNHS_GT19-38445_bcfc1_uniq the counts of long_Jax_KOLF2C1_variants_uniq is 1598559 long_Jax_KOLF2C1_variants_uniq</p>
<hr />
<p><code>mkdir long-long-compare</code> <code>bash new_com_diff.sh long_psomagen_KOLF2.1_variants long_Jax_KOLF2C1_variants '1,2,4,5' long-long-compare</code></p>
<p>the counts of common is 4503428 common the counts of long_psomagen_KOLF2.1_variants_uniq is 1275343 long_psomagen_KOLF2.1_variants_uniq the counts of long_Jax_KOLF2C1_variants_uniq is 1166348 long_Jax_KOLF2C1_variants_uniq</p>
<hr />
<p><code>mkdir short_jax_2.1-long_psomagen_2.1-compare</code> <code>bash new_com_diff.sh Jax_KOLF2-ARID2-A2_bcfc1 long_psomagen_KOLF2.1_variants  '1,2,4,5' short_jax_2.1-long_psomagen_2.1-compare</code></p>
<p>the counts of common is 4213152 common the counts of Jax_KOLF2-ARID2-A2_bcfc1_uniq is 807673 Jax_KOLF2-ARID2-A2_bcfc1_uniq the counts of long_psomagen_KOLF2.1_variants_uniq is 1565619 long_psomagen_KOLF2.1_variants_uniq</p>
<p id="section"></p>
<h1 id="sept-2nd-2020-three-files-comparison">Sept 2nd, 2020: three files comparison</h1>
<p>Run 2: thee template is com_diff_2.sh, compare 3 files, sort and compare. In the future: sort can be done in hpc and comparison can be done in python if for the purpose of drawing venn diagram for 3 sets.</p>
<ol type="1">
<li>input files are already cut</li>
<li>provide prefix of 3 files</li>
</ol>
<p><code>bash 3set_diff.sh UNHS_GT19-38445_bcfc1_cut_merage Jax_KOLF2-ARID2-A2_bcfc1_cut_merage long_psomagen_KOLF2.1_variants_cut_merage</code></p>
<p>the counts of common_AB is 4273509 common_AB the counts of A_uniq is 441675 A_uniq the counts of B_uniq is 747316 B_uniq the counts of common_AB is 3974143 common_ABC the counts of AB_uniq is 299366 AB_uniq the counts of C_uniq is 1804628 C_uniq</p>
<p id="section-1"></p>
<h1 id="merge-mulitple-fields-to-one-field-transfer-to-local-and-do-comparison-in-jupyter-notebook">merge mulitple fields to one field, transfer to local, and do comparison in jupyter notebook</h1>
<p><code>~/Downloads/WGS/compare-variants/compare\ variants.ipynb</code></p>
<p>awk ‘{print $1$2$3$4}’ long_Jax_KOLF2C1_variants_cut.vcf &gt; long_Jax_KOLF2C1_variants_cut_merage.vcf awk ‘{print $1$2$3$4}’ long_psomagen_KOLF2.1_variants_cut.vcf &gt; long_psomagen_KOLF2.1_variants_cut_merage.vcf awk ‘{print $1$2$3$4}’ UNHS_GT19-38445_bcfc1_cut.vcf &gt; UNHS_GT19-38445_bcfc1_cut_merage.vcf awk ‘{print $1$2$3$4}’ Jax_KOLF2-ARID2-A2_bcfc1_cut.vcf &gt; Jax_KOLF2-ARID2-A2_bcfc1_cut_merage.vcf</p>
<h1 id="generate-the-quality-score-column-to-check-the-range-of-qual-of-the-4-datasets-transfer-to-local-and-examine-them-using-jupternotebook">generate the quality score column to check the range of QUAL of the 4 datasets, transfer to local and examine them using jupternotebook</h1>
<p><code>~/Downloads/WGS/compare-variants/compare\ variants-calculate\ qual.ipynb</code></p>
<p>grep -v ‘^#’ long_psomagen_KOLF2.1_variants.vcf | cut -f6 &gt; long_psomagen_KOLF2.1_variants_qual grep -v ‘^#’ long_Jax_KOLF2C1_variants.vcf | cut -f6 &gt; long_Jax_KOLF2C1_variants_qual grep -v ‘^#’ Jax_KOLF2-ARID2-A2_bcfc1.vcf | cut -f6 &gt; Jax_KOLF2-ARID2-A2_bcfc1_qaul grep -v ‘^#’ UNHS_GT19-38445_bcfc1.vcf | cut -f6 &gt; UNHS_GT19-38445_bcfc1_qaul</p>
<p>It is revealed that short read vcf did filtering using QUAL of 30, while long ranger vcf files don’t do filtering.</p>
<p id="section-2"></p>
<h1 id="sept-4th-2020-filter-the-long-read-data-using-either-qual-of-30-or-20-then-do-comparison-again-to-short-reads">Sept 4th, 2020: filter the long read data using either QUAL of 30 or 20, then do comparison again to short reads</h1>
